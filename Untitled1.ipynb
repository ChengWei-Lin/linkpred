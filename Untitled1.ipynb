{
 "cells": [
  {
   "cell_type": "markdown",
   "metadata": {},
   "source": [
    "## Issues\n",
    "    1. exclude presented edge or not? \n",
    "        1. do not exclude currently.\n",
    "        2. it is a useful variable to see if it's presented already or not, (might put it to ERGM to see if high correlation between networks is due to it has presented already \n",
    "        3. excluding presented edge to predict new edge occur in the future is a way, but we want to preserve this information\n",
    "    2. should exclude new presented nodes in testing network, otherwise there's no way to predict\n",
    "    3. however, when using edge betweenness in testing network, we want to see its importance in its current/future network, not the one excludes new nodes.\n",
    "    4. try to find the threshold, the output only presents predict links\n",
    "    5. AUR ROC , (x,y)-(katz, betweenness), plot with z-score to scale, compare different algorithms(tp only), further can compare tp,fp,tn,fn\n",
    "    6. add one more column, cluster coefficient of edge"
   ]
  },
  {
   "cell_type": "code",
   "execution_count": null,
   "metadata": {},
   "outputs": [],
   "source": []
  }
 ],
 "metadata": {
  "kernelspec": {
   "display_name": "Python 3",
   "language": "python",
   "name": "python3"
  },
  "language_info": {
   "codemirror_mode": {
    "name": "ipython",
    "version": 3
   },
   "file_extension": ".py",
   "mimetype": "text/x-python",
   "name": "python",
   "nbconvert_exporter": "python",
   "pygments_lexer": "ipython3",
   "version": "3.7.6"
  }
 },
 "nbformat": 4,
 "nbformat_minor": 4
}
