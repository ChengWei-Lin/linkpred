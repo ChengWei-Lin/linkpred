{
 "cells": [
  {
   "cell_type": "code",
   "execution_count": 1,
   "metadata": {},
   "outputs": [
    {
     "data": {
      "text/html": [
       "<style>.container { width:100% !important; }</style>"
      ],
      "text/plain": [
       "<IPython.core.display.HTML object>"
      ]
     },
     "metadata": {},
     "output_type": "display_data"
    }
   ],
   "source": [
    "from IPython.core.display import display, HTML\n",
    "display(HTML(\"<style>.container { width:100% !important; }</style>\"))"
   ]
  },
  {
   "cell_type": "markdown",
   "metadata": {},
   "source": [
    "### Documentation\n",
    "linkpred is a Python package for link prediction: given a network, linkpred provides a number of heuristics (known as predictors) that assess the likelihood of potential links in a future snapshot of the network.\n",
    "\n",
    "While some predictors are fairly straightforward (e.g., if two people have a large number of mutual friends, it seems likely that eventually they will meet and become friends), others are more involved."
   ]
  },
  {
   "cell_type": "code",
   "execution_count": 5,
   "metadata": {},
   "outputs": [],
   "source": [
    "import linkpred"
   ]
  },
  {
   "cell_type": "code",
   "execution_count": 6,
   "metadata": {},
   "outputs": [],
   "source": [
    "import pandas as pd\n",
    "import os"
   ]
  },
  {
   "cell_type": "code",
   "execution_count": 7,
   "metadata": {},
   "outputs": [
    {
     "data": {
      "text/plain": [
       "632"
      ]
     },
     "execution_count": 7,
     "metadata": {},
     "output_type": "execute_result"
    }
   ],
   "source": [
    "path = os.getcwd()\n",
    "G = linkpred.read_network(path+\"\\\\examples\\\\inf1990-2004.net\")\n",
    "len(G)"
   ]
  },
  {
   "cell_type": "code",
   "execution_count": 8,
   "metadata": {},
   "outputs": [],
   "source": [
    "simrank = linkpred.predictors.SimRank(G, excluded=G.edges())"
   ]
  },
  {
   "cell_type": "code",
   "execution_count": 9,
   "metadata": {},
   "outputs": [],
   "source": [
    "simrank_results = simrank.predict(c=0.5)"
   ]
  },
  {
   "cell_type": "code",
   "execution_count": 10,
   "metadata": {},
   "outputs": [],
   "source": [
    "top = simrank_results.top(5)"
   ]
  },
  {
   "cell_type": "code",
   "execution_count": 11,
   "metadata": {},
   "outputs": [
    {
     "name": "stdout",
     "output_type": "stream",
     "text": [
      "Thirion, B - Benichou, J 0.500045161714793\n",
      "Dillon, SM - Bocock, D 0.5000451617147926\n",
      "Shailendra, K - Lakshmi, VV 0.5000451617147925\n",
      "Yu, DR - Rong, YH 0.5000451617147924\n",
      "Hooten, PA - Harsanyi, MA 0.5000447564078123\n"
     ]
    }
   ],
   "source": [
    "for authors, score in top.items():\n",
    "    print(authors, score)"
   ]
  },
  {
   "cell_type": "code",
   "execution_count": null,
   "metadata": {},
   "outputs": [],
   "source": []
  },
  {
   "cell_type": "code",
   "execution_count": 13,
   "metadata": {},
   "outputs": [
    {
     "name": "stderr",
     "output_type": "stream",
     "text": [
      "usage: linkpred training-file [test-file] [options]\n",
      "linkpred: error: argument -p/--predictors: invalid choice: '–o' (choose from 'AdamicAdar', 'AssociationStrength', 'CommonNeighbours', 'Community', 'Copy', 'Cosine', 'DegreeProduct', 'GraphDistance', 'Jaccard', 'Katz', 'MaxOverlap', 'MinOverlap', 'NMeasure', 'Pearson', 'Random', 'ResourceAllocation', 'RootedPageRank', 'SimRank')\n"
     ]
    }
   ],
   "source": [
    "!linkpred inf1990-2004.net inf2005-2009.net -p CommonNeighbours Cosine –o recall-precision roc"
   ]
  },
  {
   "cell_type": "code",
   "execution_count": 33,
   "metadata": {},
   "outputs": [
    {
     "name": "stdout",
     "output_type": "stream",
     "text": [
      "11:29:56 - INFO - Reading file 'C:\\\\Users\\\\Liser\\\\Desktop\\\\linchengwei_link_prediction\\\\examples\\\\inf1990-2004.net'...\n",
      "11:29:56 - INFO - Successfully read file.\n",
      "11:29:56 - INFO - Starting preprocessing...\n",
      "11:29:56 - INFO - Removed 35 nodes (degree < 1)\n",
      "11:29:56 - INFO - Finished preprocessing.\n",
      "11:29:56 - INFO - Executing CommonNeighbours...\n",
      "11:29:56 - INFO - Finished executing CommonNeighbours.\n",
      "11:29:56 - INFO - Prediction run finished\n"
     ]
    }
   ],
   "source": [
    "!linkpred C:\\\\Users\\\\Liser\\\\Desktop\\\\linchengwei_link_prediction\\\\examples\\\\inf1990-2004.net -p CommonNeighbours -o cache-predictions"
   ]
  },
  {
   "cell_type": "code",
   "execution_count": 28,
   "metadata": {},
   "outputs": [
    {
     "name": "stdout",
     "output_type": "stream",
     "text": [
      "13:37:48 - INFO - Reading file 'C:\\\\Users\\\\Liser\\\\Desktop\\\\linchengwei_link_prediction\\\\examples\\\\inf1990-2004.net'...\n",
      "13:37:48 - INFO - Successfully read file.\n",
      "13:37:48 - INFO - Reading file 'C:\\\\Users\\\\Liser\\\\Desktop\\\\linchengwei_link_prediction\\\\examples\\\\inf2005-2009.net'...\n",
      "13:37:48 - INFO - Successfully read file.\n",
      "13:37:48 - INFO - Starting preprocessing...\n",
      "13:37:48 - INFO - Removed 35 nodes (degree < 1)\n",
      "13:37:48 - INFO - Removed 30 nodes (degree < 1)\n",
      "13:37:48 - INFO - Removed 426 nodes (not common)\n",
      "13:37:48 - INFO - Removed 433 nodes (not common)\n",
      "13:37:48 - INFO - Finished preprocessing.\n",
      "13:37:48 - INFO - Executing CommonNeighbours...\n",
      "13:37:48 - INFO - Finished executing CommonNeighbours.\n",
      "13:37:48 - INFO - Executing Cosine...\n",
      "13:37:48 - INFO - Finished executing Cosine.\n",
      "13:37:48 - INFO - Prediction run finished\n"
     ]
    }
   ],
   "source": [
    "!linkpred \\\n",
    "C:\\\\Users\\\\Liser\\\\Desktop\\\\linchengwei_link_prediction\\\\examples\\\\inf1990-2004.net \\\n",
    "C:\\\\Users\\\\Liser\\\\Desktop\\\\linchengwei_link_prediction\\\\examples\\\\inf2005-2009.net -p CommonNeighbours Cosine -o roc"
   ]
  },
  {
   "cell_type": "markdown",
   "metadata": {},
   "source": [
    "#### algorithms\n",
    "'AdamicAdar', 'AssociationStrength', 'CommonNeighbours', 'Community', 'Copy', 'Cosine', 'DegreeProduct', 'GraphDistance',  \n",
    "'Jaccard', 'Katz', 'MaxOverlap', 'MinOverlap', 'NMeasure', 'Pearson', 'Random', 'ResourceAllocation', 'RootedPageRank', 'SimRank'"
   ]
  },
  {
   "cell_type": "markdown",
   "metadata": {},
   "source": [
    "#### training \n",
    "* C:\\\\Users\\\\Liser\\\\Desktop\\\\linchengwei_link_prediction\\\\output\\\\netfiles\\\\JASIST_coauthor_jasist_2010-2015.net\n",
    "    \n",
    "#### testing\n",
    "* C:\\\\Users\\\\Liser\\\\Desktop\\\\linchengwei_link_prediction\\\\output\\\\netfiles\\\\JASIST_coauthor_jasist_2010-2016.net\n",
    "* C:\\\\Users\\\\Liser\\\\Desktop\\\\linchengwei_link_prediction\\\\output\\\\netfiles\\\\JASIST_coauthor_jasist_2010-2017.net\n",
    "* C:\\\\Users\\\\Liser\\\\Desktop\\\\linchengwei_link_prediction\\\\output\\\\netfiles\\\\JASIST_coauthor_jasist_2010-2018.net\n",
    "* C:\\\\Users\\\\Liser\\\\Desktop\\\\linchengwei_link_prediction\\\\output\\\\netfiles\\\\JASIST_coauthor_jasist_2010-2019.net"
   ]
  },
  {
   "cell_type": "markdown",
   "metadata": {},
   "source": [
    "#### training \n",
    "* C:\\\\Users\\\\Liser\\\\Desktop\\\\linchengwei_link_prediction\\\\output\\\\netfiles\\\\scientometrics_coauthor_2010-2015.net\n",
    "    \n",
    "#### testing\n",
    "* C:\\\\Users\\\\Liser\\\\Desktop\\\\linchengwei_link_prediction\\\\output\\\\netfiles\\\\scientometrics_coauthor_2010-2016.net\n",
    "* C:\\\\Users\\\\Liser\\\\Desktop\\\\linchengwei_link_prediction\\\\output\\\\netfiles\\\\scientometrics_coauthor_2010-2017.net\n",
    "* C:\\\\Users\\\\Liser\\\\Desktop\\\\linchengwei_link_prediction\\\\output\\\\netfiles\\\\scientometrics_coauthor_2010-2018.net\n",
    "* C:\\\\Users\\\\Liser\\\\Desktop\\\\linchengwei_link_prediction\\\\output\\\\netfiles\\\\scientometrics_coauthor_2010-2019.net"
   ]
  },
  {
   "cell_type": "code",
   "execution_count": 19,
   "metadata": {},
   "outputs": [],
   "source": [
    "import time"
   ]
  },
  {
   "cell_type": "markdown",
   "metadata": {},
   "source": [
    "### CommonNeighbours"
   ]
  },
  {
   "cell_type": "code",
   "execution_count": 59,
   "metadata": {},
   "outputs": [
    {
     "name": "stdout",
     "output_type": "stream",
     "text": [
      "16:21:33 - INFO - Reading file 'C:\\\\Users\\\\Liser\\\\Desktop\\\\linchengwei_link_prediction\\\\output\\\\netfiles\\\\JASIST_coauthor_jasist_2010-2015.net'...\n",
      "16:21:33 - INFO - Successfully read file.\n",
      "16:21:33 - INFO - Reading file 'C:\\\\Users\\\\Liser\\\\Desktop\\\\linchengwei_link_prediction\\\\output\\\\netfiles\\\\JASIST_coauthor_jasist_2010-2016.net'...\n",
      "16:21:34 - INFO - Successfully read file.\n",
      "16:21:34 - INFO - Starting preprocessing...\n",
      "16:21:34 - INFO - Removed 0 nodes (degree < 1)\n",
      "16:21:34 - INFO - Removed 0 nodes (degree < 1)\n",
      "16:21:34 - INFO - Removed 259 nodes (not common)\n",
      "16:21:34 - INFO - Removed 436 nodes (not common)\n",
      "16:21:34 - INFO - Finished preprocessing.\n",
      "16:21:34 - INFO - Executing CommonNeighbours...\n",
      "16:21:34 - INFO - Finished executing CommonNeighbours.\n",
      "16:21:34 - INFO - Executing Jaccard...\n",
      "16:21:34 - INFO - Finished executing Jaccard.\n",
      "16:21:34 - INFO - Executing Katz...\n",
      "Computing matrix powers: [............................................................] 0/5\n",
      "Computing matrix powers: [############................................................] 1/5\n",
      "Computing matrix powers: [########################....................................] 2/5\n",
      "Computing matrix powers: [####################################........................] 3/5\n",
      "Computing matrix powers: [################################################............] 4/5\n",
      "Computing matrix powers: [############################################################] 5/5\n",
      "\n",
      "16:21:34 - INFO - Finished executing Katz.\n",
      "16:21:34 - INFO - Prediction run finished\n"
     ]
    }
   ],
   "source": [
    "!linkpred \\\n",
    "C:\\\\Users\\\\Liser\\\\Desktop\\\\linchengwei_link_prediction\\\\output\\\\netfiles\\\\JASIST_coauthor_jasist_2010-2015.net \\\n",
    "C:\\\\Users\\\\Liser\\\\Desktop\\\\linchengwei_link_prediction\\\\output\\\\netfiles\\\\JASIST_coauthor_jasist_2010-2016.net -p CommonNeighbours Jaccard Katz -o roc\n",
    "\n",
    "time.sleep(60)\n",
    "\n",
    "!linkpred \\\n",
    "C:\\\\Users\\\\Liser\\\\Desktop\\\\linchengwei_link_prediction\\\\output\\\\netfiles\\\\JASIST_coauthor_jasist_2010-2015.net \\\n",
    "C:\\\\Users\\\\Liser\\\\Desktop\\\\linchengwei_link_prediction\\\\output\\\\netfiles\\\\JASIST_coauthor_jasist_2010-2017.net -p CommonNeighbours Jaccard Katz -o roc\n",
    "\n",
    "time.sleep(60)\n",
    "\n",
    "!linkpred \\\n",
    "C:\\\\Users\\\\Liser\\\\Desktop\\\\linchengwei_link_prediction\\\\output\\\\netfiles\\\\JASIST_coauthor_jasist_2010-2015.net \\\n",
    "C:\\\\Users\\\\Liser\\\\Desktop\\\\linchengwei_link_prediction\\\\output\\\\netfiles\\\\JASIST_coauthor_jasist_2010-2018.net -p CommonNeighbours Jaccard Katz -o roc\n",
    "\n",
    "time.sleep(60)\n",
    "\n",
    "!linkpred \\\n",
    "C:\\\\Users\\\\Liser\\\\Desktop\\\\linchengwei_link_prediction\\\\output\\\\netfiles\\\\JASIST_coauthor_jasist_2010-2015.net \\\n",
    "C:\\\\Users\\\\Liser\\\\Desktop\\\\linchengwei_link_prediction\\\\output\\\\netfiles\\\\JASIST_coauthor_jasist_2010-2019.net -p CommonNeighbours Jaccard Katz -o roc"
   ]
  },
  {
   "cell_type": "markdown",
   "metadata": {},
   "source": [
    "# Implementation"
   ]
  },
  {
   "cell_type": "code",
   "execution_count": 50,
   "metadata": {},
   "outputs": [
    {
     "data": {
      "text/plain": [
       "3266"
      ]
     },
     "execution_count": 50,
     "metadata": {},
     "output_type": "execute_result"
    }
   ],
   "source": [
    "import os\n",
    "import linkpred\n",
    "path = os.getcwd()\n",
    "G = linkpred.read_network(path+\"\\\\output\\\\netfiles\\\\scientometrics_coauthor_2010-2016.net\")\n",
    "len(G)"
   ]
  },
  {
   "cell_type": "code",
   "execution_count": null,
   "metadata": {},
   "outputs": [],
   "source": []
  }
 ],
 "metadata": {
  "kernelspec": {
   "display_name": "Python 3",
   "language": "python",
   "name": "python3"
  },
  "language_info": {
   "codemirror_mode": {
    "name": "ipython",
    "version": 3
   },
   "file_extension": ".py",
   "mimetype": "text/x-python",
   "name": "python",
   "nbconvert_exporter": "python",
   "pygments_lexer": "ipython3",
   "version": "3.7.6"
  }
 },
 "nbformat": 4,
 "nbformat_minor": 4
}
