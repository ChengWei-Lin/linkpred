{
 "cells": [
  {
   "cell_type": "code",
   "execution_count": 1,
   "metadata": {},
   "outputs": [
    {
     "data": {
      "text/html": [
       "<style>.container { width:100% !important; }</style>"
      ],
      "text/plain": [
       "<IPython.core.display.HTML object>"
      ]
     },
     "metadata": {},
     "output_type": "display_data"
    }
   ],
   "source": [
    "from IPython.core.display import display, HTML\n",
    "display(HTML(\"<style>.container { width:100% !important; }</style>\"))"
   ]
  },
  {
   "cell_type": "markdown",
   "metadata": {},
   "source": [
    "## Issues\n",
    "    1. exclude presented edge or not? \n",
    "        1. do not exclude currently.\n",
    "        2. it is a useful variable to see if it's presented already or not, (might put it to ERGM to see if high correlation between networks is due to it has presented already \n",
    "        3. excluding presented edge to predict new edge occur in the future is a way, but we want to preserve this information\n",
    "    \n",
    "    2. should exclude new presented nodes in testing network, otherwise there's no way to predict\n",
    "    \n",
    "    3. however, when using edge betweenness in testing network, we want to see its importance in its current/future network, not the one excludes new nodes.\n",
    "    \n",
    "    4. try to find the threshold, the output only presents predict links\n",
    "    \n",
    "    5. AUR ROC , (x,y)-(katz, betweenness), plot with z-score to scale, compare different algorithms(tp only), further can compare tp,fp,tn,fn\n",
    "    \n",
    "    6. add one more column, cluster coefficient of edge"
   ]
  },
  {
   "cell_type": "markdown",
   "metadata": {},
   "source": [
    "## "
   ]
  },
  {
   "cell_type": "code",
   "execution_count": 2,
   "metadata": {},
   "outputs": [
    {
     "name": "stdout",
     "output_type": "stream",
     "text": [
      "scientometrics / jasistscientometrics\n",
      "co-author / co-occurrenceco-occurrence\n"
     ]
    },
    {
     "data": {
      "text/plain": [
       "['C:\\\\Users\\\\Liser\\\\Desktop\\\\linchengwei_link_prediction\\\\data_transformation_output\\\\scientometrics\\\\netfiles\\\\co-occurrence\\\\2010-15.net',\n",
       " 'C:\\\\Users\\\\Liser\\\\Desktop\\\\linchengwei_link_prediction\\\\data_transformation_output\\\\scientometrics\\\\netfiles\\\\co-occurrence\\\\2016-16.net',\n",
       " 'C:\\\\Users\\\\Liser\\\\Desktop\\\\linchengwei_link_prediction\\\\data_transformation_output\\\\scientometrics\\\\netfiles\\\\co-occurrence\\\\2016-17.net',\n",
       " 'C:\\\\Users\\\\Liser\\\\Desktop\\\\linchengwei_link_prediction\\\\data_transformation_output\\\\scientometrics\\\\netfiles\\\\co-occurrence\\\\2016-18.net',\n",
       " 'C:\\\\Users\\\\Liser\\\\Desktop\\\\linchengwei_link_prediction\\\\data_transformation_output\\\\scientometrics\\\\netfiles\\\\co-occurrence\\\\2016-19.net']"
      ]
     },
     "execution_count": 2,
     "metadata": {},
     "output_type": "execute_result"
    }
   ],
   "source": [
    "import os\n",
    "import pandas as pd\n",
    "\n",
    "journal = input('scientometrics / jasist')\n",
    "entity = input('co-author / co-occurrence')\n",
    "\n",
    "path = os.getcwd()\n",
    "evaluation_path = path+\"\\\\output prediction\\\\{}\\\\{}\\\\evaluation\\\\\".format(journal, entity)\n",
    "result_path = path+\"\\\\output prediction\\\\{}\\\\{}\\\\result\\\\\".format(journal, entity)\n",
    "betweenness_path = path+\"\\\\output prediction\\\\{}\\\\{}\\\\\".format(journal, entity)+\"edge_betweenness.txt\"\n",
    "\n",
    "netfiles_path = path+\"\\\\data_transformation_output\\\\{}\\\\netfiles\\\\{}\\\\\".format(journal, entity)\n",
    "netfiles = []\n",
    "for f in os.listdir(netfiles_path):\n",
    "    if f.endswith('.net'):\n",
    "        netfiles.append(netfiles_path+f)\n",
    "\n",
    "netfiles"
   ]
  },
  {
   "cell_type": "markdown",
   "metadata": {},
   "source": [
    "# read Result"
   ]
  },
  {
   "cell_type": "code",
   "execution_count": 9,
   "metadata": {},
   "outputs": [
    {
     "name": "stdout",
     "output_type": "stream",
     "text": [
      "AdamicAdar_t1.txt\n",
      "jaccard_t1.txt\n",
      "katz_beta001_t1.txt\n",
      "katz_beta01_t1.txt\n"
     ]
    }
   ],
   "source": [
    "result = dict()\n",
    "\n",
    "for f in os.listdir(result_path):\n",
    "    df_iter = pd.read_csv(result_path+f, sep='\\t', header=None)\n",
    "    df_iter.columns=['keyword1', 'keyword2', f.split('.')[0]]\n",
    "    result[f.split('.')[0]] = df_iter\n",
    "    print(f)"
   ]
  },
  {
   "cell_type": "markdown",
   "metadata": {},
   "source": [
    "# read evaluation"
   ]
  },
  {
   "cell_type": "code",
   "execution_count": 3,
   "metadata": {},
   "outputs": [
    {
     "name": "stdout",
     "output_type": "stream",
     "text": [
      "AdamicAdar_t1.txt\n",
      "jaccard_t1.txt\n",
      "katz_beta001_t1.txt\n",
      "katz_beta01_t1.txt\n"
     ]
    }
   ],
   "source": [
    "eva = dict()\n",
    "for f in os.listdir(evaluation_path):\n",
    "    df_iter = pd.read_csv(evaluation_path+f, sep=' ', header=None)\n",
    "    df_iter.columns = ['tp', 'fp', 'fn', 'tn']\n",
    "    eva[f.split('.')[0]] = df_iter\n",
    "    print(f)"
   ]
  },
  {
   "cell_type": "markdown",
   "metadata": {},
   "source": [
    "# read Betweenness"
   ]
  },
  {
   "cell_type": "code",
   "execution_count": 4,
   "metadata": {},
   "outputs": [],
   "source": [
    "df_betweenness = pd.read_csv(betweenness_path, sep='\\t', header=None)\n",
    "df_betweenness.columns = ['keyword1', 'keyword2', 'betweenness']\n",
    "df_betweenness = df_betweenness.set_index(['keyword1', 'keyword2'])"
   ]
  },
  {
   "cell_type": "markdown",
   "metadata": {},
   "source": [
    "## nodes in testing phase\n",
    "1. find all possible links"
   ]
  },
  {
   "cell_type": "code",
   "execution_count": 5,
   "metadata": {},
   "outputs": [
    {
     "name": "stderr",
     "output_type": "stream",
     "text": [
      "Network contains multiple edges. These will be ignored.\n"
     ]
    },
    {
     "name": "stdout",
     "output_type": "stream",
     "text": [
      "4351 nodes in C:\\Users\\Liser\\Desktop\\linchengwei_link_prediction\\data_transformation_output\\scientometrics\\netfiles\\co-occurrence\\2010-15.net\n",
      "all possible links: 9463425.0\n"
     ]
    }
   ],
   "source": [
    "import linkpred\n",
    "G = linkpred.read_network(netfiles[0]) # t1\n",
    "n = len(list(G.nodes))\n",
    "print(\"{} nodes in {}\".format(n, netfiles[0]))\n",
    "\n",
    "all_possible_links = (n*(n-1))/2\n",
    "print(\"all possible links: {}\".format(all_possible_links))"
   ]
  },
  {
   "cell_type": "markdown",
   "metadata": {},
   "source": [
    "## computing confusion and new evaluation with correct tn"
   ]
  },
  {
   "cell_type": "code",
   "execution_count": 6,
   "metadata": {},
   "outputs": [
    {
     "name": "stdout",
     "output_type": "stream",
     "text": [
      "---------- AdamicAdar_t1\n",
      "num of linked:  1164\n",
      "num of no link: 9462261.0\n",
      "---------- jaccard_t1\n",
      "num of linked:  1164\n",
      "num of no link: 9462261.0\n",
      "---------- katz_beta001_t1\n",
      "num of linked:  1164\n",
      "num of no link: 9462261.0\n",
      "---------- katz_beta01_t1\n",
      "num of linked:  1164\n",
      "num of no link: 9462261.0\n"
     ]
    }
   ],
   "source": [
    "import numpy as np\n",
    "\n",
    "def compute_confusion(evaluation, num_linked, num_of_nolink):\n",
    "    \n",
    "    def add_0_for_cal(X):\n",
    "        \n",
    "        C = pd.DataFrame()\n",
    "        C = C.append([[0, 0, num_linked, num_of_nolink]])\n",
    "        C.columns = X.columns\n",
    "        X = C.append(X)\n",
    "        \n",
    "        return X\n",
    "\n",
    "    X = add_0_for_cal(evaluation)[:-1]\n",
    "    Y = add_0_for_cal(evaluation)[1:]\n",
    "    X = X.reset_index()\n",
    "    X = X.drop(columns=['index'])\n",
    "    res = Y-X\n",
    "\n",
    "    return res\n",
    "\n",
    "df_confusions = dict()\n",
    "\n",
    "for k in eva.keys():\n",
    "    print('-'*10, k)\n",
    "    \n",
    "    # evaluation = eva[k]\n",
    "    num_linked = int(eva[k]['tp'][0]+eva[k]['fn'][0])\n",
    "    \n",
    "    # calculate tn\n",
    "    num_of_nolink = all_possible_links-num_linked\n",
    "    print(\"num of linked:  {}\".format(num_linked))\n",
    "    print(\"num of no link: {}\".format(num_of_nolink))\n",
    "    \n",
    "    df_confusion = compute_confusion(eva[k], num_linked, num_of_nolink)\n",
    "    df_confusions[k] = df_confusion\n",
    "    \n",
    "    # num_of_nolink = np.array([num_of_nolink]*len(eva[k]['fp']))\n",
    "    \n",
    "    eva[k]['tn'] = np.array([num_of_nolink]*len(eva[k]['fp']))-eva[k]['fp']"
   ]
  },
  {
   "cell_type": "markdown",
   "metadata": {},
   "source": [
    "## calculate sensitivity, specificity and YoundenIndex"
   ]
  },
  {
   "cell_type": "code",
   "execution_count": 7,
   "metadata": {},
   "outputs": [
    {
     "name": "stdout",
     "output_type": "stream",
     "text": [
      "---------- AdamicAdar_t1\n",
      "tp              7.150000e+02\n",
      "fp              5.265530e+05\n",
      "fn              4.490000e+02\n",
      "tn              8.935708e+06\n",
      "sensitivity     6.142612e-01\n",
      "specificity     9.443523e-01\n",
      "YoundenIndex    5.586135e-01\n",
      "Name: 527267, dtype: float64 \n",
      "\n",
      "---------- jaccard_t1\n",
      "tp              7.150000e+02\n",
      "fp              5.284130e+05\n",
      "fn              4.490000e+02\n",
      "tn              8.933848e+06\n",
      "sensitivity     6.142612e-01\n",
      "specificity     9.441557e-01\n",
      "YoundenIndex    5.584169e-01\n",
      "Name: 529127, dtype: float64 \n",
      "\n",
      "---------- katz_beta001_t1\n",
      "tp              8.820000e+02\n",
      "fp              9.862940e+05\n",
      "fn              2.820000e+02\n",
      "tn              8.475967e+06\n",
      "sensitivity     7.577320e-01\n",
      "specificity     8.957655e-01\n",
      "YoundenIndex    6.534975e-01\n",
      "Name: 987175, dtype: float64 \n",
      "\n",
      "---------- katz_beta01_t1\n",
      "tp              8.870000e+02\n",
      "fp              1.042102e+06\n",
      "fn              2.770000e+02\n",
      "tn              8.420159e+06\n",
      "sensitivity     7.620275e-01\n",
      "specificity     8.898675e-01\n",
      "YoundenIndex    6.518950e-01\n",
      "Name: 1042988, dtype: float64 \n",
      "\n"
     ]
    }
   ],
   "source": [
    "for k in eva.keys():\n",
    "    print('-'*10, k)\n",
    "    x = eva[k]\n",
    "    x['sensitivity'] = x['tp'] / (x['tp'] + x['fn'])\n",
    "    x['specificity'] = x['tn'] / (x['tn'] + x['fp'])\n",
    "\n",
    "    x['YoundenIndex'] = x['sensitivity']+x['specificity']-1\n",
    "    \n",
    "    Younden_idxmax = x['YoundenIndex'].idxmax()\n",
    "    print(x.loc[Younden_idxmax], '\\n')"
   ]
  },
  {
   "cell_type": "markdown",
   "metadata": {},
   "source": [
    "## calculate sensitivity, specificity and YoundenIndex"
   ]
  },
  {
   "cell_type": "code",
   "execution_count": 10,
   "metadata": {},
   "outputs": [],
   "source": [
    "predict_results = dict()\n",
    "for k in result.keys():\n",
    "    predict_results[k] = result[k].copy()\n",
    "    predict_results[k]['predict'] = np.array([1]*len(result[k]))\n",
    "    predict_results[k]['actual'] = df_confusions[k]['tp']"
   ]
  },
  {
   "cell_type": "code",
   "execution_count": 11,
   "metadata": {},
   "outputs": [],
   "source": [
    "all_results = dict()\n",
    "\n",
    "for k in result.keys():\n",
    "    all_results[k] = predict_results[k].join(eva[k])"
   ]
  },
  {
   "cell_type": "code",
   "execution_count": 22,
   "metadata": {},
   "outputs": [
    {
     "data": {
      "text/html": [
       "<div>\n",
       "<style scoped>\n",
       "    .dataframe tbody tr th:only-of-type {\n",
       "        vertical-align: middle;\n",
       "    }\n",
       "\n",
       "    .dataframe tbody tr th {\n",
       "        vertical-align: top;\n",
       "    }\n",
       "\n",
       "    .dataframe thead th {\n",
       "        text-align: right;\n",
       "    }\n",
       "</style>\n",
       "<table border=\"1\" class=\"dataframe\">\n",
       "  <thead>\n",
       "    <tr style=\"text-align: right;\">\n",
       "      <th></th>\n",
       "      <th>keyword1</th>\n",
       "      <th>keyword2</th>\n",
       "      <th>betweenness</th>\n",
       "    </tr>\n",
       "  </thead>\n",
       "  <tbody>\n",
       "    <tr>\n",
       "      <th>0</th>\n",
       "      <td>All-in-one indicator</td>\n",
       "      <td>Altmetric score</td>\n",
       "      <td>0.000001</td>\n",
       "    </tr>\n",
       "    <tr>\n",
       "      <th>1</th>\n",
       "      <td>All-in-one indicator</td>\n",
       "      <td>Altmetrics</td>\n",
       "      <td>0.001344</td>\n",
       "    </tr>\n",
       "    <tr>\n",
       "      <th>2</th>\n",
       "      <td>1 Nano enabled drug delivery</td>\n",
       "      <td>Bibliography analysis</td>\n",
       "      <td>0.000001</td>\n",
       "    </tr>\n",
       "    <tr>\n",
       "      <th>3</th>\n",
       "      <td>1 Nano enabled drug delivery</td>\n",
       "      <td>Graphene</td>\n",
       "      <td>0.000007</td>\n",
       "    </tr>\n",
       "    <tr>\n",
       "      <th>4</th>\n",
       "      <td>1 Nano enabled drug delivery</td>\n",
       "      <td>Specialization score</td>\n",
       "      <td>0.000001</td>\n",
       "    </tr>\n",
       "    <tr>\n",
       "      <th>...</th>\n",
       "      <td>...</td>\n",
       "      <td>...</td>\n",
       "      <td>...</td>\n",
       "    </tr>\n",
       "    <tr>\n",
       "      <th>3767</th>\n",
       "      <td>fa(k)-index</td>\n",
       "      <td>fp(k)-index</td>\n",
       "      <td>0.000001</td>\n",
       "    </tr>\n",
       "    <tr>\n",
       "      <th>3768</th>\n",
       "      <td>fa(k)-index</td>\n",
       "      <td>fas(k)-index</td>\n",
       "      <td>0.000001</td>\n",
       "    </tr>\n",
       "    <tr>\n",
       "      <th>3769</th>\n",
       "      <td>fas(k)-index</td>\n",
       "      <td>fp(k)-index</td>\n",
       "      <td>0.000001</td>\n",
       "    </tr>\n",
       "    <tr>\n",
       "      <th>3770</th>\n",
       "      <td>g-index</td>\n",
       "      <td>h-index</td>\n",
       "      <td>0.000361</td>\n",
       "    </tr>\n",
       "    <tr>\n",
       "      <th>3771</th>\n",
       "      <td>h-Core scores</td>\n",
       "      <td>h-Index</td>\n",
       "      <td>0.000286</td>\n",
       "    </tr>\n",
       "  </tbody>\n",
       "</table>\n",
       "<p>3772 rows × 3 columns</p>\n",
       "</div>"
      ],
      "text/plain": [
       "                          keyword1               keyword2  betweenness\n",
       "0             All-in-one indicator        Altmetric score     0.000001\n",
       "1             All-in-one indicator             Altmetrics     0.001344\n",
       "2     1 Nano enabled drug delivery  Bibliography analysis     0.000001\n",
       "3     1 Nano enabled drug delivery               Graphene     0.000007\n",
       "4     1 Nano enabled drug delivery   Specialization score     0.000001\n",
       "...                            ...                    ...          ...\n",
       "3767                   fa(k)-index            fp(k)-index     0.000001\n",
       "3768                   fa(k)-index           fas(k)-index     0.000001\n",
       "3769                  fas(k)-index            fp(k)-index     0.000001\n",
       "3770                       g-index                h-index     0.000361\n",
       "3771                 h-Core scores                h-Index     0.000286\n",
       "\n",
       "[3772 rows x 3 columns]"
      ]
     },
     "execution_count": 22,
     "metadata": {},
     "output_type": "execute_result"
    }
   ],
   "source": [
    "df_betweenness = df_betweenness.reset_index()\n",
    "df_betweenness"
   ]
  },
  {
   "cell_type": "code",
   "execution_count": 126,
   "metadata": {},
   "outputs": [],
   "source": [
    "for key in all_results.keys():\n",
    "    res = all_results[key].copy()\n",
    "    # need to reset the merge keys to the correct order, otherwise there's no result\n",
    "    res.columns = ['keyword2', 'keyword1']+list(res.columns)[2:]\n",
    "    all_results[key] = pd.merge(res, df_betweenness, how='outer', on=['keyword1', 'keyword2'])"
   ]
  },
  {
   "cell_type": "code",
   "execution_count": 124,
   "metadata": {},
   "outputs": [
    {
     "data": {
      "text/html": [
       "<div>\n",
       "<style scoped>\n",
       "    .dataframe tbody tr th:only-of-type {\n",
       "        vertical-align: middle;\n",
       "    }\n",
       "\n",
       "    .dataframe tbody tr th {\n",
       "        vertical-align: top;\n",
       "    }\n",
       "\n",
       "    .dataframe thead th {\n",
       "        text-align: right;\n",
       "    }\n",
       "</style>\n",
       "<table border=\"1\" class=\"dataframe\">\n",
       "  <thead>\n",
       "    <tr style=\"text-align: right;\">\n",
       "      <th></th>\n",
       "      <th>keyword2</th>\n",
       "      <th>keyword1</th>\n",
       "      <th>jaccard_t1</th>\n",
       "      <th>predict</th>\n",
       "      <th>actual</th>\n",
       "      <th>tp</th>\n",
       "      <th>fp</th>\n",
       "      <th>fn</th>\n",
       "      <th>tn</th>\n",
       "      <th>sensitivity</th>\n",
       "      <th>specificity</th>\n",
       "      <th>YoundenIndex</th>\n",
       "      <th>betweenness</th>\n",
       "    </tr>\n",
       "  </thead>\n",
       "  <tbody>\n",
       "    <tr>\n",
       "      <th>1394</th>\n",
       "      <td>Top-cited articles</td>\n",
       "      <td>Article life</td>\n",
       "      <td>0.666667</td>\n",
       "      <td>1.0</td>\n",
       "      <td>1.0</td>\n",
       "      <td>1.0</td>\n",
       "      <td>1394.0</td>\n",
       "      <td>1163.0</td>\n",
       "      <td>9460867.0</td>\n",
       "      <td>0.000859</td>\n",
       "      <td>0.999853</td>\n",
       "      <td>0.000712</td>\n",
       "      <td>0.000001</td>\n",
       "    </tr>\n",
       "    <tr>\n",
       "      <th>2535</th>\n",
       "      <td>Sliding window</td>\n",
       "      <td>Citation windows</td>\n",
       "      <td>0.600000</td>\n",
       "      <td>1.0</td>\n",
       "      <td>1.0</td>\n",
       "      <td>2.0</td>\n",
       "      <td>2534.0</td>\n",
       "      <td>1162.0</td>\n",
       "      <td>9459727.0</td>\n",
       "      <td>0.001718</td>\n",
       "      <td>0.999732</td>\n",
       "      <td>0.001450</td>\n",
       "      <td>0.000001</td>\n",
       "    </tr>\n",
       "    <tr>\n",
       "      <th>2728</th>\n",
       "      <td>Probabilistic affinity index</td>\n",
       "      <td>BRICS countries</td>\n",
       "      <td>0.600000</td>\n",
       "      <td>1.0</td>\n",
       "      <td>1.0</td>\n",
       "      <td>3.0</td>\n",
       "      <td>2726.0</td>\n",
       "      <td>1161.0</td>\n",
       "      <td>9459535.0</td>\n",
       "      <td>0.002577</td>\n",
       "      <td>0.999712</td>\n",
       "      <td>0.002289</td>\n",
       "      <td>0.000001</td>\n",
       "    </tr>\n",
       "    <tr>\n",
       "      <th>3700</th>\n",
       "      <td>Relational databases</td>\n",
       "      <td>Nuclear data mining</td>\n",
       "      <td>0.500000</td>\n",
       "      <td>1.0</td>\n",
       "      <td>1.0</td>\n",
       "      <td>4.0</td>\n",
       "      <td>3697.0</td>\n",
       "      <td>1160.0</td>\n",
       "      <td>9458564.0</td>\n",
       "      <td>0.003436</td>\n",
       "      <td>0.999609</td>\n",
       "      <td>0.003046</td>\n",
       "      <td>0.000001</td>\n",
       "    </tr>\n",
       "    <tr>\n",
       "      <th>4060</th>\n",
       "      <td>Evolving network</td>\n",
       "      <td>Co-author</td>\n",
       "      <td>0.500000</td>\n",
       "      <td>1.0</td>\n",
       "      <td>1.0</td>\n",
       "      <td>5.0</td>\n",
       "      <td>4056.0</td>\n",
       "      <td>1159.0</td>\n",
       "      <td>9458205.0</td>\n",
       "      <td>0.004296</td>\n",
       "      <td>0.999571</td>\n",
       "      <td>0.003867</td>\n",
       "      <td>0.000001</td>\n",
       "    </tr>\n",
       "    <tr>\n",
       "      <th>...</th>\n",
       "      <td>...</td>\n",
       "      <td>...</td>\n",
       "      <td>...</td>\n",
       "      <td>...</td>\n",
       "      <td>...</td>\n",
       "      <td>...</td>\n",
       "      <td>...</td>\n",
       "      <td>...</td>\n",
       "      <td>...</td>\n",
       "      <td>...</td>\n",
       "      <td>...</td>\n",
       "      <td>...</td>\n",
       "      <td>...</td>\n",
       "    </tr>\n",
       "    <tr>\n",
       "      <th>528089</th>\n",
       "      <td>Regression analysis</td>\n",
       "      <td>Bibliometrics</td>\n",
       "      <td>0.001613</td>\n",
       "      <td>1.0</td>\n",
       "      <td>1.0</td>\n",
       "      <td>711.0</td>\n",
       "      <td>527379.0</td>\n",
       "      <td>453.0</td>\n",
       "      <td>8934882.0</td>\n",
       "      <td>0.610825</td>\n",
       "      <td>0.944265</td>\n",
       "      <td>0.555090</td>\n",
       "      <td>0.001200</td>\n",
       "    </tr>\n",
       "    <tr>\n",
       "      <th>528202</th>\n",
       "      <td>Foresight</td>\n",
       "      <td>Bibliometrics</td>\n",
       "      <td>0.001613</td>\n",
       "      <td>1.0</td>\n",
       "      <td>1.0</td>\n",
       "      <td>712.0</td>\n",
       "      <td>527491.0</td>\n",
       "      <td>452.0</td>\n",
       "      <td>8934770.0</td>\n",
       "      <td>0.611684</td>\n",
       "      <td>0.944253</td>\n",
       "      <td>0.555937</td>\n",
       "      <td>0.001287</td>\n",
       "    </tr>\n",
       "    <tr>\n",
       "      <th>528274</th>\n",
       "      <td>Bibliometrics</td>\n",
       "      <td>Artificial intelligence</td>\n",
       "      <td>0.001613</td>\n",
       "      <td>1.0</td>\n",
       "      <td>1.0</td>\n",
       "      <td>713.0</td>\n",
       "      <td>527562.0</td>\n",
       "      <td>451.0</td>\n",
       "      <td>8934699.0</td>\n",
       "      <td>0.612543</td>\n",
       "      <td>0.944246</td>\n",
       "      <td>0.556789</td>\n",
       "      <td>0.001010</td>\n",
       "    </tr>\n",
       "    <tr>\n",
       "      <th>529089</th>\n",
       "      <td>Bibliometrics</td>\n",
       "      <td>Academic rankings</td>\n",
       "      <td>0.001595</td>\n",
       "      <td>1.0</td>\n",
       "      <td>1.0</td>\n",
       "      <td>714.0</td>\n",
       "      <td>528376.0</td>\n",
       "      <td>450.0</td>\n",
       "      <td>8933885.0</td>\n",
       "      <td>0.613402</td>\n",
       "      <td>0.944160</td>\n",
       "      <td>0.557562</td>\n",
       "      <td>0.000918</td>\n",
       "    </tr>\n",
       "    <tr>\n",
       "      <th>529127</th>\n",
       "      <td>Natural language processing</td>\n",
       "      <td>Bibliometrics</td>\n",
       "      <td>0.001587</td>\n",
       "      <td>1.0</td>\n",
       "      <td>1.0</td>\n",
       "      <td>715.0</td>\n",
       "      <td>528413.0</td>\n",
       "      <td>449.0</td>\n",
       "      <td>8933848.0</td>\n",
       "      <td>0.614261</td>\n",
       "      <td>0.944156</td>\n",
       "      <td>0.558417</td>\n",
       "      <td>0.001010</td>\n",
       "    </tr>\n",
       "  </tbody>\n",
       "</table>\n",
       "<p>715 rows × 13 columns</p>\n",
       "</div>"
      ],
      "text/plain": [
       "                            keyword2                 keyword1  jaccard_t1  \\\n",
       "1394              Top-cited articles             Article life    0.666667   \n",
       "2535                  Sliding window         Citation windows    0.600000   \n",
       "2728    Probabilistic affinity index          BRICS countries    0.600000   \n",
       "3700            Relational databases      Nuclear data mining    0.500000   \n",
       "4060                Evolving network                Co-author    0.500000   \n",
       "...                              ...                      ...         ...   \n",
       "528089           Regression analysis            Bibliometrics    0.001613   \n",
       "528202                     Foresight            Bibliometrics    0.001613   \n",
       "528274                 Bibliometrics  Artificial intelligence    0.001613   \n",
       "529089                 Bibliometrics        Academic rankings    0.001595   \n",
       "529127   Natural language processing            Bibliometrics    0.001587   \n",
       "\n",
       "        predict  actual     tp        fp      fn         tn  sensitivity  \\\n",
       "1394        1.0     1.0    1.0    1394.0  1163.0  9460867.0     0.000859   \n",
       "2535        1.0     1.0    2.0    2534.0  1162.0  9459727.0     0.001718   \n",
       "2728        1.0     1.0    3.0    2726.0  1161.0  9459535.0     0.002577   \n",
       "3700        1.0     1.0    4.0    3697.0  1160.0  9458564.0     0.003436   \n",
       "4060        1.0     1.0    5.0    4056.0  1159.0  9458205.0     0.004296   \n",
       "...         ...     ...    ...       ...     ...        ...          ...   \n",
       "528089      1.0     1.0  711.0  527379.0   453.0  8934882.0     0.610825   \n",
       "528202      1.0     1.0  712.0  527491.0   452.0  8934770.0     0.611684   \n",
       "528274      1.0     1.0  713.0  527562.0   451.0  8934699.0     0.612543   \n",
       "529089      1.0     1.0  714.0  528376.0   450.0  8933885.0     0.613402   \n",
       "529127      1.0     1.0  715.0  528413.0   449.0  8933848.0     0.614261   \n",
       "\n",
       "        specificity  YoundenIndex  betweenness  \n",
       "1394       0.999853      0.000712     0.000001  \n",
       "2535       0.999732      0.001450     0.000001  \n",
       "2728       0.999712      0.002289     0.000001  \n",
       "3700       0.999609      0.003046     0.000001  \n",
       "4060       0.999571      0.003867     0.000001  \n",
       "...             ...           ...          ...  \n",
       "528089     0.944265      0.555090     0.001200  \n",
       "528202     0.944253      0.555937     0.001287  \n",
       "528274     0.944246      0.556789     0.001010  \n",
       "529089     0.944160      0.557562     0.000918  \n",
       "529127     0.944156      0.558417     0.001010  \n",
       "\n",
       "[715 rows x 13 columns]"
      ]
     },
     "execution_count": 124,
     "metadata": {},
     "output_type": "execute_result"
    }
   ],
   "source": [
    "def print_intersect(y):\n",
    "    A = y['betweenness'].astype(str)!='nan'\n",
    "    B = y['YoundenIndex'].astype(str)!='nan'\n",
    "    return y[A&B]\n",
    "\n",
    "print_intersect(y)"
   ]
  },
  {
   "cell_type": "markdown",
   "metadata": {},
   "source": [
    "#### find results have betweenness and algorithms weight, and plot"
   ]
  },
  {
   "cell_type": "code",
   "execution_count": 202,
   "metadata": {},
   "outputs": [
    {
     "data": {
      "text/plain": [
       "'katz_beta01_t1'"
      ]
     },
     "execution_count": 202,
     "metadata": {},
     "output_type": "execute_result"
    }
   ],
   "source": [
    "key"
   ]
  },
  {
   "cell_type": "code",
   "execution_count": 206,
   "metadata": {},
   "outputs": [],
   "source": [
    "def compute_xy_scale(key):\n",
    "    A = all_results[key]['betweenness'].astype(str)!='nan'\n",
    "    B = all_results[key]['YoundenIndex'].astype(str)!='nan'\n",
    "    res = all_results[key][A&B]\n",
    "    \n",
    "    train_set = pd.DataFrame({key:res[key], \n",
    "                          'betweenness':res['betweenness']})\n",
    "\n",
    "    train_set.index = list(range(len(train_set)))\n",
    "    from sklearn.preprocessing import StandardScaler\n",
    "\n",
    "    scale = StandardScaler() #z-scaler物件\n",
    "    scale.fit_transform(train_set)\n",
    "    train_set_scaled = pd.DataFrame(scale.fit_transform(train_set),\n",
    "                                    columns=train_set.keys())\n",
    "    \n",
    "    return train_set, train_set_scaled\n",
    "\n",
    "weight_betweenness = dict()\n",
    "for key in all_results.keys():\n",
    "    weight_betweenness[key] = dict()\n",
    "    train_set, train_set_scaled = compute_xy_scale(key)\n",
    "    weight_betweenness[key]['train_set'] = train_set\n",
    "    weight_betweenness[key]['train_set_scaled'] = train_set_scaled"
   ]
  },
  {
   "cell_type": "code",
   "execution_count": 208,
   "metadata": {},
   "outputs": [
    {
     "data": {
      "text/html": [
       "<div>\n",
       "<style scoped>\n",
       "    .dataframe tbody tr th:only-of-type {\n",
       "        vertical-align: middle;\n",
       "    }\n",
       "\n",
       "    .dataframe tbody tr th {\n",
       "        vertical-align: top;\n",
       "    }\n",
       "\n",
       "    .dataframe thead th {\n",
       "        text-align: right;\n",
       "    }\n",
       "</style>\n",
       "<table border=\"1\" class=\"dataframe\">\n",
       "  <thead>\n",
       "    <tr style=\"text-align: right;\">\n",
       "      <th></th>\n",
       "      <th>AdamicAdar_t1</th>\n",
       "      <th>betweenness</th>\n",
       "    </tr>\n",
       "  </thead>\n",
       "  <tbody>\n",
       "    <tr>\n",
       "      <th>0</th>\n",
       "      <td>40.167798</td>\n",
       "      <td>0.016413</td>\n",
       "    </tr>\n",
       "    <tr>\n",
       "      <th>1</th>\n",
       "      <td>28.963286</td>\n",
       "      <td>0.007629</td>\n",
       "    </tr>\n",
       "    <tr>\n",
       "      <th>2</th>\n",
       "      <td>25.007075</td>\n",
       "      <td>0.013093</td>\n",
       "    </tr>\n",
       "    <tr>\n",
       "      <th>3</th>\n",
       "      <td>23.945907</td>\n",
       "      <td>0.031346</td>\n",
       "    </tr>\n",
       "    <tr>\n",
       "      <th>4</th>\n",
       "      <td>18.371930</td>\n",
       "      <td>0.022087</td>\n",
       "    </tr>\n",
       "    <tr>\n",
       "      <th>...</th>\n",
       "      <td>...</td>\n",
       "      <td>...</td>\n",
       "    </tr>\n",
       "    <tr>\n",
       "      <th>710</th>\n",
       "      <td>0.155606</td>\n",
       "      <td>0.002004</td>\n",
       "    </tr>\n",
       "    <tr>\n",
       "      <th>711</th>\n",
       "      <td>0.155606</td>\n",
       "      <td>0.000001</td>\n",
       "    </tr>\n",
       "    <tr>\n",
       "      <th>712</th>\n",
       "      <td>0.155606</td>\n",
       "      <td>0.000603</td>\n",
       "    </tr>\n",
       "    <tr>\n",
       "      <th>713</th>\n",
       "      <td>0.155606</td>\n",
       "      <td>0.002931</td>\n",
       "    </tr>\n",
       "    <tr>\n",
       "      <th>714</th>\n",
       "      <td>0.155606</td>\n",
       "      <td>0.000485</td>\n",
       "    </tr>\n",
       "  </tbody>\n",
       "</table>\n",
       "<p>715 rows × 2 columns</p>\n",
       "</div>"
      ],
      "text/plain": [
       "     AdamicAdar_t1  betweenness\n",
       "0        40.167798     0.016413\n",
       "1        28.963286     0.007629\n",
       "2        25.007075     0.013093\n",
       "3        23.945907     0.031346\n",
       "4        18.371930     0.022087\n",
       "..             ...          ...\n",
       "710       0.155606     0.002004\n",
       "711       0.155606     0.000001\n",
       "712       0.155606     0.000603\n",
       "713       0.155606     0.002931\n",
       "714       0.155606     0.000485\n",
       "\n",
       "[715 rows x 2 columns]"
      ]
     },
     "execution_count": 208,
     "metadata": {},
     "output_type": "execute_result"
    }
   ],
   "source": [
    "weight_betweenness['AdamicAdar_t1']['train_set']"
   ]
  },
  {
   "cell_type": "code",
   "execution_count": 242,
   "metadata": {},
   "outputs": [
    {
     "data": {
      "text/plain": [
       "'scientometrics'"
      ]
     },
     "execution_count": 242,
     "metadata": {},
     "output_type": "execute_result"
    }
   ],
   "source": [
    "journal"
   ]
  },
  {
   "cell_type": "code",
   "execution_count": 247,
   "metadata": {},
   "outputs": [],
   "source": [
    "for key in all_results.keys():    \n",
    "#     print(\"\\\\output prediction\\\\{}\\\\{}\\\\result\\\\top1000\\\\{}.csv\".format(journal, entity, key))\n",
    "    file_name = \"output prediction\\\\{}\\\\{}\\\\result\\\\top1000\\\\{}.csv\".format(journal, entity, key)\n",
    "    all_results[key].sort_values(by=key, ascending=False).head(1000).to_csv(file_name)"
   ]
  },
  {
   "cell_type": "code",
   "execution_count": 216,
   "metadata": {},
   "outputs": [],
   "source": [
    "c = ['r', 'g', 'b', 'y']\n",
    "cmap = dict()\n",
    "for i, key in enumerate(weight_betweenness.keys()):\n",
    "    cmap[key] = c[i]"
   ]
  },
  {
   "cell_type": "code",
   "execution_count": 237,
   "metadata": {},
   "outputs": [
    {
     "data": {
      "image/png": "[encoded data removed]",
      "text/plain": [
       "<Figure size 360x360 with 1 Axes>"
      ]
     },
     "metadata": {
      "needs_background": "light"
     },
     "output_type": "display_data"
    },
    {
     "data": {
      "image/png": "[encoded data removed]",
      "text/plain": [
       "<Figure size 360x360 with 1 Axes>"
      ]
     },
     "metadata": {
      "needs_background": "light"
     },
     "output_type": "display_data"
    },
    {
     "data": {
      "image/png": "[encoded data removed]",
      "text/plain": [
       "<Figure size 360x360 with 1 Axes>"
      ]
     },
     "metadata": {
      "needs_background": "light"
     },
     "output_type": "display_data"
    },
    {
     "data": {
      "image/png": "[encoded data removed]",
      "text/plain": [
       "<Figure size 360x360 with 1 Axes>"
      ]
     },
     "metadata": {
      "needs_background": "light"
     },
     "output_type": "display_data"
    }
   ],
   "source": [
    "import matplotlib.pyplot as plt\n",
    "\n",
    "for i, key in enumerate(weight_betweenness.keys()):\n",
    "    train_set_scaled = weight_betweenness[key]['train_set_scaled']\n",
    "    sns.lmplot(x=key, y='betweenness', data=train_set_scaled, fit_reg=True)"
   ]
  },
  {
   "cell_type": "code",
   "execution_count": 211,
   "metadata": {},
   "outputs": [
    {
     "data": {
      "text/html": [
       "<div>\n",
       "<style scoped>\n",
       "    .dataframe tbody tr th:only-of-type {\n",
       "        vertical-align: middle;\n",
       "    }\n",
       "\n",
       "    .dataframe tbody tr th {\n",
       "        vertical-align: top;\n",
       "    }\n",
       "\n",
       "    .dataframe thead th {\n",
       "        text-align: right;\n",
       "    }\n",
       "</style>\n",
       "<table border=\"1\" class=\"dataframe\">\n",
       "  <thead>\n",
       "    <tr style=\"text-align: right;\">\n",
       "      <th></th>\n",
       "      <th>AdamicAdar_t1</th>\n",
       "      <th>betweenness</th>\n",
       "    </tr>\n",
       "  </thead>\n",
       "  <tbody>\n",
       "    <tr>\n",
       "      <th>0</th>\n",
       "      <td>11.146824</td>\n",
       "      <td>3.997309</td>\n",
       "    </tr>\n",
       "    <tr>\n",
       "      <th>1</th>\n",
       "      <td>7.866339</td>\n",
       "      <td>1.547516</td>\n",
       "    </tr>\n",
       "    <tr>\n",
       "      <th>2</th>\n",
       "      <td>6.708030</td>\n",
       "      <td>3.071469</td>\n",
       "    </tr>\n",
       "    <tr>\n",
       "      <th>3</th>\n",
       "      <td>6.397338</td>\n",
       "      <td>8.161672</td>\n",
       "    </tr>\n",
       "    <tr>\n",
       "      <th>4</th>\n",
       "      <td>4.765375</td>\n",
       "      <td>5.579535</td>\n",
       "    </tr>\n",
       "    <tr>\n",
       "      <th>...</th>\n",
       "      <td>...</td>\n",
       "      <td>...</td>\n",
       "    </tr>\n",
       "    <tr>\n",
       "      <th>710</th>\n",
       "      <td>-0.568046</td>\n",
       "      <td>-0.021022</td>\n",
       "    </tr>\n",
       "    <tr>\n",
       "      <th>711</th>\n",
       "      <td>-0.568046</td>\n",
       "      <td>-0.579572</td>\n",
       "    </tr>\n",
       "    <tr>\n",
       "      <th>712</th>\n",
       "      <td>-0.568046</td>\n",
       "      <td>-0.411766</td>\n",
       "    </tr>\n",
       "    <tr>\n",
       "      <th>713</th>\n",
       "      <td>-0.568046</td>\n",
       "      <td>0.237455</td>\n",
       "    </tr>\n",
       "    <tr>\n",
       "      <th>714</th>\n",
       "      <td>-0.568046</td>\n",
       "      <td>-0.444688</td>\n",
       "    </tr>\n",
       "  </tbody>\n",
       "</table>\n",
       "<p>715 rows × 2 columns</p>\n",
       "</div>"
      ],
      "text/plain": [
       "     AdamicAdar_t1  betweenness\n",
       "0        11.146824     3.997309\n",
       "1         7.866339     1.547516\n",
       "2         6.708030     3.071469\n",
       "3         6.397338     8.161672\n",
       "4         4.765375     5.579535\n",
       "..             ...          ...\n",
       "710      -0.568046    -0.021022\n",
       "711      -0.568046    -0.579572\n",
       "712      -0.568046    -0.411766\n",
       "713      -0.568046     0.237455\n",
       "714      -0.568046    -0.444688\n",
       "\n",
       "[715 rows x 2 columns]"
      ]
     },
     "execution_count": 211,
     "metadata": {},
     "output_type": "execute_result"
    }
   ],
   "source": [
    "train_set_scaled"
   ]
  },
  {
   "cell_type": "code",
   "execution_count": 235,
   "metadata": {},
   "outputs": [
    {
     "data": {
      "text/plain": [
       "<seaborn.axisgrid.FacetGrid at 0x1594f927f48>"
      ]
     },
     "execution_count": 235,
     "metadata": {},
     "output_type": "execute_result"
    },
    {
     "data": {
      "image/png": "[encoded data removed]",
      "text/plain": [
       "<Figure size 360x360 with 1 Axes>"
      ]
     },
     "metadata": {
      "needs_background": "light"
     },
     "output_type": "display_data"
    }
   ],
   "source": [
    "import seaborn as sns\n",
    "# sns_current_palette = sns.palplot(sns.color_palette(\"hls\", 8))\n"
   ]
  }
 ],
 "metadata": {
  "kernelspec": {
   "display_name": "Python 3",
   "language": "python",
   "name": "python3"
  },
  "language_info": {
   "codemirror_mode": {
    "name": "ipython",
    "version": 3
   },
   "file_extension": ".py",
   "mimetype": "text/x-python",
   "name": "python",
   "nbconvert_exporter": "python",
   "pygments_lexer": "ipython3",
   "version": "3.7.6"
  }
 },
 "nbformat": 4,
 "nbformat_minor": 4
}
