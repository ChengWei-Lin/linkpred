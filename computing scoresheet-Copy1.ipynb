{
 "cells": [
  {
   "cell_type": "code",
   "execution_count": 3,
   "metadata": {},
   "outputs": [
    {
     "data": {
      "text/html": [
       "<style>.container { width:100% !important; }</style>"
      ],
      "text/plain": [
       "<IPython.core.display.HTML object>"
      ]
     },
     "metadata": {},
     "output_type": "display_data"
    }
   ],
   "source": [
    "from IPython.core.display import display, HTML\n",
    "display(HTML(\"<style>.container { width:100% !important; }</style>\"))"
   ]
  },
  {
   "cell_type": "code",
   "execution_count": 4,
   "metadata": {},
   "outputs": [
    {
     "name": "stdout",
     "output_type": "stream",
     "text": [
      "scientometrics / jasistscientometrics\n",
      "co-author / co-occurrenceco-occurrence\n"
     ]
    }
   ],
   "source": [
    "import os\n",
    "import pandas as pd\n",
    "\n",
    "journal = input('scientometrics / jasist')\n",
    "entity = input('co-author / co-occurrence')\n",
    "\n",
    "path = os.getcwd()\n",
    "evaluation_path = path+\"\\\\output prediction\\\\{}\\\\{}\\\\evaluation\\\\\".format(journal, entity)\n",
    "result_path = path+\"\\\\output prediction\\\\{}\\\\{}\\\\result\\\\\".format(journal, entity)\n",
    "betweenness_path = path+\"\\\\output prediction\\\\{}\\\\{}\\\\\".format(journal, entity)+\"edge_betweenness.txt\""
   ]
  },
  {
   "cell_type": "code",
   "execution_count": 3,
   "metadata": {},
   "outputs": [
    {
     "data": {
      "text/plain": [
       "['C:\\\\Users\\\\Liser\\\\Desktop\\\\linchengwei_link_prediction\\\\data_transformation_output\\\\scientometrics\\\\netfiles\\\\co-occurrence\\\\2010-15.net',\n",
       " 'C:\\\\Users\\\\Liser\\\\Desktop\\\\linchengwei_link_prediction\\\\data_transformation_output\\\\scientometrics\\\\netfiles\\\\co-occurrence\\\\2016-16.net',\n",
       " 'C:\\\\Users\\\\Liser\\\\Desktop\\\\linchengwei_link_prediction\\\\data_transformation_output\\\\scientometrics\\\\netfiles\\\\co-occurrence\\\\2016-17.net',\n",
       " 'C:\\\\Users\\\\Liser\\\\Desktop\\\\linchengwei_link_prediction\\\\data_transformation_output\\\\scientometrics\\\\netfiles\\\\co-occurrence\\\\2016-18.net',\n",
       " 'C:\\\\Users\\\\Liser\\\\Desktop\\\\linchengwei_link_prediction\\\\data_transformation_output\\\\scientometrics\\\\netfiles\\\\co-occurrence\\\\2016-19.net']"
      ]
     },
     "execution_count": 3,
     "metadata": {},
     "output_type": "execute_result"
    }
   ],
   "source": [
    "netfiles_path = path+\"\\\\data_transformation_output\\\\{}\\\\netfiles\\\\{}\\\\\".format(journal, entity)\n",
    "netfiles = []\n",
    "for f in os.listdir(netfiles_path):\n",
    "    if f.endswith('.net'):\n",
    "        netfiles.append(netfiles_path+f)\n",
    "\n",
    "netfiles"
   ]
  },
  {
   "cell_type": "markdown",
   "metadata": {},
   "source": [
    "# read result"
   ]
  },
  {
   "cell_type": "code",
   "execution_count": 2,
   "metadata": {},
   "outputs": [
    {
     "ename": "NameError",
     "evalue": "name 'os' is not defined",
     "output_type": "error",
     "traceback": [
      "\u001b[1;31m---------------------------------------------------------------------------\u001b[0m",
      "\u001b[1;31mNameError\u001b[0m                                 Traceback (most recent call last)",
      "\u001b[1;32m<ipython-input-2-056035eaa5a2>\u001b[0m in \u001b[0;36m<module>\u001b[1;34m\u001b[0m\n\u001b[0;32m      1\u001b[0m \u001b[0mresult\u001b[0m \u001b[1;33m=\u001b[0m \u001b[0mdict\u001b[0m\u001b[1;33m(\u001b[0m\u001b[1;33m)\u001b[0m\u001b[1;33m\u001b[0m\u001b[1;33m\u001b[0m\u001b[0m\n\u001b[0;32m      2\u001b[0m \u001b[1;33m\u001b[0m\u001b[0m\n\u001b[1;32m----> 3\u001b[1;33m \u001b[1;32mfor\u001b[0m \u001b[0mf\u001b[0m \u001b[1;32min\u001b[0m \u001b[0mos\u001b[0m\u001b[1;33m.\u001b[0m\u001b[0mlistdir\u001b[0m\u001b[1;33m(\u001b[0m\u001b[0mresult_path\u001b[0m\u001b[1;33m)\u001b[0m\u001b[1;33m:\u001b[0m\u001b[1;33m\u001b[0m\u001b[1;33m\u001b[0m\u001b[0m\n\u001b[0m\u001b[0;32m      4\u001b[0m     \u001b[0mdf_iter\u001b[0m \u001b[1;33m=\u001b[0m \u001b[0mpd\u001b[0m\u001b[1;33m.\u001b[0m\u001b[0mread_csv\u001b[0m\u001b[1;33m(\u001b[0m\u001b[0mresult_path\u001b[0m\u001b[1;33m+\u001b[0m\u001b[0mf\u001b[0m\u001b[1;33m,\u001b[0m \u001b[0msep\u001b[0m\u001b[1;33m=\u001b[0m\u001b[1;34m'\\t'\u001b[0m\u001b[1;33m,\u001b[0m \u001b[0mheader\u001b[0m\u001b[1;33m=\u001b[0m\u001b[1;32mNone\u001b[0m\u001b[1;33m)\u001b[0m\u001b[1;33m\u001b[0m\u001b[1;33m\u001b[0m\u001b[0m\n\u001b[0;32m      5\u001b[0m     \u001b[0mdf_iter\u001b[0m\u001b[1;33m.\u001b[0m\u001b[0mcolumns\u001b[0m\u001b[1;33m=\u001b[0m\u001b[1;33m[\u001b[0m\u001b[1;34m'keyword1'\u001b[0m\u001b[1;33m,\u001b[0m \u001b[1;34m'keyword2'\u001b[0m\u001b[1;33m,\u001b[0m \u001b[0mf\u001b[0m\u001b[1;33m.\u001b[0m\u001b[0msplit\u001b[0m\u001b[1;33m(\u001b[0m\u001b[1;34m'.'\u001b[0m\u001b[1;33m)\u001b[0m\u001b[1;33m[\u001b[0m\u001b[1;36m0\u001b[0m\u001b[1;33m]\u001b[0m\u001b[1;33m]\u001b[0m\u001b[1;33m\u001b[0m\u001b[1;33m\u001b[0m\u001b[0m\n",
      "\u001b[1;31mNameError\u001b[0m: name 'os' is not defined"
     ]
    }
   ],
   "source": [
    "result = dict()\n",
    "\n",
    "for f in os.listdir(result_path):\n",
    "    df_iter = pd.read_csv(result_path+f, sep='\\t', header=None)\n",
    "    df_iter.columns=['keyword1', 'keyword2', f.split('.')[0]]\n",
    "    result[f.split('.')[0]] = df_iter\n",
    "    print(f)"
   ]
  },
  {
   "cell_type": "markdown",
   "metadata": {},
   "source": [
    "# read evaluation"
   ]
  },
  {
   "cell_type": "code",
   "execution_count": 5,
   "metadata": {},
   "outputs": [
    {
     "name": "stdout",
     "output_type": "stream",
     "text": [
      "AdamicAdar_t1.txt\n",
      "jaccard_t1.txt\n",
      "katz_beta001_t1.txt\n",
      "katz_beta01_t1.txt\n"
     ]
    }
   ],
   "source": [
    "eva = dict()\n",
    "for f in os.listdir(evaluation_path):\n",
    "    df_iter = pd.read_csv(evaluation_path+f, sep=' ', header=None)\n",
    "    df_iter.columns = ['tp', 'fp', 'fn', 'tn']\n",
    "    eva[f.split('.')[0]] = df_iter\n",
    "    print(f)"
   ]
  },
  {
   "cell_type": "markdown",
   "metadata": {},
   "source": [
    "# read Betweenness"
   ]
  },
  {
   "cell_type": "code",
   "execution_count": 6,
   "metadata": {},
   "outputs": [],
   "source": [
    "df_betweenness = pd.read_csv(betweenness_path, sep='\\t', header=None)\n",
    "df_betweenness.columns = ['keyword1', 'keyword2', 'betweenness']\n",
    "df_betweenness = df_betweenness.set_index(['keyword1', 'keyword2'])"
   ]
  },
  {
   "cell_type": "markdown",
   "metadata": {},
   "source": [
    "### concat 4 results"
   ]
  },
  {
   "cell_type": "code",
   "execution_count": 8,
   "metadata": {},
   "outputs": [],
   "source": [
    "df = pd.DataFrame()\n",
    "for i, df_iter in enumerate(list(result.values())):\n",
    "    df_iter = df_iter.set_index(['keyword1', 'keyword2'])\n",
    "    df = pd.concat([df, df_iter], axis=1, sort=False)\n",
    "#     print(i)"
   ]
  },
  {
   "cell_type": "markdown",
   "metadata": {},
   "source": [
    "### concat 4 results with betweenness"
   ]
  },
  {
   "cell_type": "code",
   "execution_count": 9,
   "metadata": {},
   "outputs": [],
   "source": [
    "df = pd.concat([df, df_betweenness], axis=1, sort=False)"
   ]
  },
  {
   "cell_type": "code",
   "execution_count": 17,
   "metadata": {},
   "outputs": [],
   "source": [
    "df = df.reset_index()"
   ]
  },
  {
   "cell_type": "markdown",
   "metadata": {},
   "source": [
    "### save"
   ]
  },
  {
   "cell_type": "code",
   "execution_count": 18,
   "metadata": {},
   "outputs": [],
   "source": [
    "df.to_pickle('output_scoresheet\\\\scoresheet.pkl')"
   ]
  },
  {
   "cell_type": "code",
   "execution_count": null,
   "metadata": {},
   "outputs": [],
   "source": []
  },
  {
   "cell_type": "code",
   "execution_count": 19,
   "metadata": {},
   "outputs": [
    {
     "name": "stdout",
     "output_type": "stream",
     "text": [
      "AdamicAdar_t1\n",
      "jaccard_t1\n",
      "katz_beta001_t1\n",
      "katz_beta01_t1\n"
     ]
    }
   ],
   "source": [
    "for k in eva.keys():\n",
    "    print(k)"
   ]
  },
  {
   "cell_type": "markdown",
   "metadata": {},
   "source": [
    "## nodes in testing phase\n",
    "1. find all possible links"
   ]
  },
  {
   "cell_type": "code",
   "execution_count": 7,
   "metadata": {},
   "outputs": [
    {
     "name": "stderr",
     "output_type": "stream",
     "text": [
      "Network contains multiple edges. These will be ignored.\n"
     ]
    },
    {
     "name": "stdout",
     "output_type": "stream",
     "text": [
      "4351 nodes in C:\\Users\\Liser\\Desktop\\linchengwei_link_prediction\\data_transformation_output\\scientometrics\\netfiles\\co-occurrence\\2010-15.net\n",
      "all possible links: 9463425.0\n"
     ]
    }
   ],
   "source": [
    "import linkpred\n",
    "G = linkpred.read_network(netfiles[0]) # t1\n",
    "n = len(list(G.nodes))\n",
    "print(\"{} nodes in {}\".format(n, netfiles[0]))\n",
    "\n",
    "all_possible_links = (n*(n-1))/2\n",
    "print(\"all possible links: {}\".format(all_possible_links))"
   ]
  },
  {
   "cell_type": "markdown",
   "metadata": {},
   "source": [
    "## computing confusion and new evaluation with correct tn"
   ]
  },
  {
   "cell_type": "code",
   "execution_count": 8,
   "metadata": {},
   "outputs": [
    {
     "name": "stdout",
     "output_type": "stream",
     "text": [
      "---------- AdamicAdar_t1\n",
      "num of linked:  3772\n",
      "num of no link: 9459653.0\n",
      "---------- jaccard_t1\n",
      "num of linked:  3772\n",
      "num of no link: 9459653.0\n",
      "---------- katz_beta001_t1\n",
      "num of linked:  3772\n",
      "num of no link: 9459653.0\n",
      "---------- katz_beta01_t1\n",
      "num of linked:  3772\n",
      "num of no link: 9459653.0\n"
     ]
    }
   ],
   "source": [
    "import numpy as np\n",
    "\n",
    "def compute_confusion(evaluation, num_linked, num_of_nolink):\n",
    "    \n",
    "    def add_0_for_cal(X):\n",
    "        \n",
    "        C = pd.DataFrame()\n",
    "        C = C.append([[0, 0, num_linked, num_of_nolink]])\n",
    "        C.columns = X.columns\n",
    "        X = C.append(X)\n",
    "        \n",
    "        return X\n",
    "\n",
    "    X = add_0_for_cal(evaluation)[:-1]\n",
    "    Y = add_0_for_cal(evaluation)[1:]\n",
    "    X = X.reset_index()\n",
    "    X = X.drop(columns=['index'])\n",
    "    res = Y-X\n",
    "\n",
    "    return res\n",
    "\n",
    "df_confusions = dict()\n",
    "\n",
    "for k in eva.keys():\n",
    "    print('-'*10, k)\n",
    "    \n",
    "    # evaluation = eva[k]\n",
    "    num_linked = int(eva[k]['tp'][0]+eva[k]['fn'][0])\n",
    "    \n",
    "    # calculate tn\n",
    "    num_of_nolink = all_possible_links-num_linked\n",
    "    print(\"num of linked:  {}\".format(num_linked))\n",
    "    print(\"num of no link: {}\".format(num_of_nolink))\n",
    "    \n",
    "    df_confusion = compute_confusion(eva[k], num_linked, num_of_nolink)\n",
    "    df_confusions[k] = df_confusion\n",
    "    \n",
    "    # num_of_nolink = np.array([num_of_nolink]*len(eva[k]['fp']))\n",
    "    \n",
    "    eva[k]['tn'] = np.array([num_of_nolink]*len(eva[k]['fp']))-eva[k]['fp']"
   ]
  },
  {
   "cell_type": "code",
   "execution_count": 9,
   "metadata": {},
   "outputs": [
    {
     "data": {
      "text/html": [
       "<div>\n",
       "<style scoped>\n",
       "    .dataframe tbody tr th:only-of-type {\n",
       "        vertical-align: middle;\n",
       "    }\n",
       "\n",
       "    .dataframe tbody tr th {\n",
       "        vertical-align: top;\n",
       "    }\n",
       "\n",
       "    .dataframe thead th {\n",
       "        text-align: right;\n",
       "    }\n",
       "</style>\n",
       "<table border=\"1\" class=\"dataframe\">\n",
       "  <thead>\n",
       "    <tr style=\"text-align: right;\">\n",
       "      <th></th>\n",
       "      <th>tp</th>\n",
       "      <th>fp</th>\n",
       "      <th>fn</th>\n",
       "      <th>tn</th>\n",
       "    </tr>\n",
       "  </thead>\n",
       "  <tbody>\n",
       "    <tr>\n",
       "      <th>0</th>\n",
       "      <td>1.0</td>\n",
       "      <td>0.0</td>\n",
       "      <td>3771.0</td>\n",
       "      <td>9459653.0</td>\n",
       "    </tr>\n",
       "    <tr>\n",
       "      <th>1</th>\n",
       "      <td>1.0</td>\n",
       "      <td>1.0</td>\n",
       "      <td>3771.0</td>\n",
       "      <td>9459652.0</td>\n",
       "    </tr>\n",
       "    <tr>\n",
       "      <th>2</th>\n",
       "      <td>1.0</td>\n",
       "      <td>2.0</td>\n",
       "      <td>3771.0</td>\n",
       "      <td>9459651.0</td>\n",
       "    </tr>\n",
       "    <tr>\n",
       "      <th>3</th>\n",
       "      <td>1.0</td>\n",
       "      <td>3.0</td>\n",
       "      <td>3771.0</td>\n",
       "      <td>9459650.0</td>\n",
       "    </tr>\n",
       "    <tr>\n",
       "      <th>4</th>\n",
       "      <td>1.0</td>\n",
       "      <td>4.0</td>\n",
       "      <td>3771.0</td>\n",
       "      <td>9459649.0</td>\n",
       "    </tr>\n",
       "    <tr>\n",
       "      <th>...</th>\n",
       "      <td>...</td>\n",
       "      <td>...</td>\n",
       "      <td>...</td>\n",
       "      <td>...</td>\n",
       "    </tr>\n",
       "    <tr>\n",
       "      <th>512426</th>\n",
       "      <td>432.0</td>\n",
       "      <td>511995.0</td>\n",
       "      <td>3340.0</td>\n",
       "      <td>8947658.0</td>\n",
       "    </tr>\n",
       "    <tr>\n",
       "      <th>512427</th>\n",
       "      <td>432.0</td>\n",
       "      <td>511996.0</td>\n",
       "      <td>3340.0</td>\n",
       "      <td>8947657.0</td>\n",
       "    </tr>\n",
       "    <tr>\n",
       "      <th>512428</th>\n",
       "      <td>432.0</td>\n",
       "      <td>511997.0</td>\n",
       "      <td>3340.0</td>\n",
       "      <td>8947656.0</td>\n",
       "    </tr>\n",
       "    <tr>\n",
       "      <th>512429</th>\n",
       "      <td>432.0</td>\n",
       "      <td>511998.0</td>\n",
       "      <td>3340.0</td>\n",
       "      <td>8947655.0</td>\n",
       "    </tr>\n",
       "    <tr>\n",
       "      <th>512430</th>\n",
       "      <td>432.0</td>\n",
       "      <td>511999.0</td>\n",
       "      <td>3340.0</td>\n",
       "      <td>8947654.0</td>\n",
       "    </tr>\n",
       "  </tbody>\n",
       "</table>\n",
       "<p>512431 rows × 4 columns</p>\n",
       "</div>"
      ],
      "text/plain": [
       "           tp        fp      fn         tn\n",
       "0         1.0       0.0  3771.0  9459653.0\n",
       "1         1.0       1.0  3771.0  9459652.0\n",
       "2         1.0       2.0  3771.0  9459651.0\n",
       "3         1.0       3.0  3771.0  9459650.0\n",
       "4         1.0       4.0  3771.0  9459649.0\n",
       "...       ...       ...     ...        ...\n",
       "512426  432.0  511995.0  3340.0  8947658.0\n",
       "512427  432.0  511996.0  3340.0  8947657.0\n",
       "512428  432.0  511997.0  3340.0  8947656.0\n",
       "512429  432.0  511998.0  3340.0  8947655.0\n",
       "512430  432.0  511999.0  3340.0  8947654.0\n",
       "\n",
       "[512431 rows x 4 columns]"
      ]
     },
     "execution_count": 9,
     "metadata": {},
     "output_type": "execute_result"
    }
   ],
   "source": [
    "eva['AdamicAdar_t1']"
   ]
  },
  {
   "cell_type": "markdown",
   "metadata": {},
   "source": [
    "## calculate sensitivity, specificity and YoundenIndex"
   ]
  },
  {
   "cell_type": "code",
   "execution_count": 21,
   "metadata": {},
   "outputs": [
    {
     "data": {
      "text/plain": [
       "0          1.000000\n",
       "1          1.000265\n",
       "2          1.000265\n",
       "3          1.000265\n",
       "4          1.000265\n",
       "             ...   \n",
       "7855068    0.390815\n",
       "7855069    0.390815\n",
       "7855070    0.390815\n",
       "7855071    0.390815\n",
       "7855072    0.390815\n",
       "Length: 7855073, dtype: float64"
      ]
     },
     "execution_count": 21,
     "metadata": {},
     "output_type": "execute_result"
    }
   ],
   "source": [
    "x['sensitivity']+x['specificity']"
   ]
  },
  {
   "cell_type": "code",
   "execution_count": 22,
   "metadata": {},
   "outputs": [
    {
     "name": "stdout",
     "output_type": "stream",
     "text": [
      "---------- AdamicAdar_t1\n",
      "tp              3.680000e+02\n",
      "fp              2.837750e+05\n",
      "fn              3.404000e+03\n",
      "tn              9.175878e+06\n",
      "sensitivity     9.756098e-02\n",
      "specificity     9.700015e-01\n",
      "YoundenIndex    6.756252e-02\n",
      "Name: 284142, dtype: float64 \n",
      "\n",
      "---------- jaccard_t1\n",
      "tp              4.320000e+02\n",
      "fp              5.119930e+05\n",
      "fn              3.340000e+03\n",
      "tn              8.947660e+06\n",
      "sensitivity     1.145281e-01\n",
      "specificity     9.458761e-01\n",
      "YoundenIndex    6.040423e-02\n",
      "Name: 512424, dtype: float64 \n",
      "\n",
      "---------- katz_beta001_t1\n",
      "tp              3.900000e+02\n",
      "fp              2.064410e+05\n",
      "fn              3.382000e+03\n",
      "tn              9.253212e+06\n",
      "sensitivity     1.033934e-01\n",
      "specificity     9.781767e-01\n",
      "YoundenIndex    8.157011e-02\n",
      "Name: 206830, dtype: float64 \n",
      "\n",
      "---------- katz_beta01_t1\n",
      "tp              4.090000e+02\n",
      "fp              2.445200e+05\n",
      "fn              3.363000e+03\n",
      "tn              9.215133e+06\n",
      "sensitivity     1.084305e-01\n",
      "specificity     9.741513e-01\n",
      "YoundenIndex    8.258181e-02\n",
      "Name: 244928, dtype: float64 \n",
      "\n"
     ]
    }
   ],
   "source": [
    "for k in eva.keys():\n",
    "    print('-'*10, k)\n",
    "    x = eva[k]\n",
    "    x['sensitivity'] = x['tp'] / (x['tp'] + x['fn'])\n",
    "    x['specificity'] = x['tn'] / (x['tn'] + x['fp'])\n",
    "\n",
    "    x['YoundenIndex'] = x['sensitivity']+x['specificity']-1\n",
    "    \n",
    "    Younden_idxmax = x['YoundenIndex'].idxmax()\n",
    "    print(x.loc[Younden_idxmax], '\\n')"
   ]
  },
  {
   "cell_type": "code",
   "execution_count": 23,
   "metadata": {},
   "outputs": [],
   "source": [
    "predict_results = dict()\n",
    "for k in result.keys():\n",
    "    predict_results[k] = result[k].copy()\n",
    "    predict_results[k]['predict'] = np.array([1]*len(result[k]))\n",
    "    predict_results[k]['actual'] = df_confusions[k]['tp']"
   ]
  },
  {
   "cell_type": "code",
   "execution_count": 24,
   "metadata": {},
   "outputs": [],
   "source": [
    "all_results = dict()\n",
    "\n",
    "for k in result.keys():\n",
    "    all_results[k] = predict_results[k].join(eva[k])"
   ]
  },
  {
   "cell_type": "markdown",
   "metadata": {},
   "source": [
    "### concat with betweenness"
   ]
  },
  {
   "cell_type": "code",
   "execution_count": 28,
   "metadata": {},
   "outputs": [
    {
     "data": {
      "text/html": [
       "<div>\n",
       "<style scoped>\n",
       "    .dataframe tbody tr th:only-of-type {\n",
       "        vertical-align: middle;\n",
       "    }\n",
       "\n",
       "    .dataframe tbody tr th {\n",
       "        vertical-align: top;\n",
       "    }\n",
       "\n",
       "    .dataframe thead th {\n",
       "        text-align: right;\n",
       "    }\n",
       "</style>\n",
       "<table border=\"1\" class=\"dataframe\">\n",
       "  <thead>\n",
       "    <tr style=\"text-align: right;\">\n",
       "      <th></th>\n",
       "      <th>keyword1</th>\n",
       "      <th>keyword2</th>\n",
       "      <th>betweenness</th>\n",
       "    </tr>\n",
       "  </thead>\n",
       "  <tbody>\n",
       "    <tr>\n",
       "      <th>0</th>\n",
       "      <td>All-in-one indicator</td>\n",
       "      <td>Altmetric score</td>\n",
       "      <td>0.000001</td>\n",
       "    </tr>\n",
       "    <tr>\n",
       "      <th>1</th>\n",
       "      <td>All-in-one indicator</td>\n",
       "      <td>Altmetrics</td>\n",
       "      <td>0.001344</td>\n",
       "    </tr>\n",
       "    <tr>\n",
       "      <th>2</th>\n",
       "      <td>1 Nano enabled drug delivery</td>\n",
       "      <td>Bibliography analysis</td>\n",
       "      <td>0.000001</td>\n",
       "    </tr>\n",
       "    <tr>\n",
       "      <th>3</th>\n",
       "      <td>1 Nano enabled drug delivery</td>\n",
       "      <td>Graphene</td>\n",
       "      <td>0.000007</td>\n",
       "    </tr>\n",
       "    <tr>\n",
       "      <th>4</th>\n",
       "      <td>1 Nano enabled drug delivery</td>\n",
       "      <td>Specialization score</td>\n",
       "      <td>0.000001</td>\n",
       "    </tr>\n",
       "    <tr>\n",
       "      <th>...</th>\n",
       "      <td>...</td>\n",
       "      <td>...</td>\n",
       "      <td>...</td>\n",
       "    </tr>\n",
       "    <tr>\n",
       "      <th>3767</th>\n",
       "      <td>fa(k)-index</td>\n",
       "      <td>fp(k)-index</td>\n",
       "      <td>0.000001</td>\n",
       "    </tr>\n",
       "    <tr>\n",
       "      <th>3768</th>\n",
       "      <td>fa(k)-index</td>\n",
       "      <td>fas(k)-index</td>\n",
       "      <td>0.000001</td>\n",
       "    </tr>\n",
       "    <tr>\n",
       "      <th>3769</th>\n",
       "      <td>fas(k)-index</td>\n",
       "      <td>fp(k)-index</td>\n",
       "      <td>0.000001</td>\n",
       "    </tr>\n",
       "    <tr>\n",
       "      <th>3770</th>\n",
       "      <td>g-index</td>\n",
       "      <td>h-index</td>\n",
       "      <td>0.000361</td>\n",
       "    </tr>\n",
       "    <tr>\n",
       "      <th>3771</th>\n",
       "      <td>h-Core scores</td>\n",
       "      <td>h-Index</td>\n",
       "      <td>0.000286</td>\n",
       "    </tr>\n",
       "  </tbody>\n",
       "</table>\n",
       "<p>3772 rows × 3 columns</p>\n",
       "</div>"
      ],
      "text/plain": [
       "                          keyword1               keyword2  betweenness\n",
       "0             All-in-one indicator        Altmetric score     0.000001\n",
       "1             All-in-one indicator             Altmetrics     0.001344\n",
       "2     1 Nano enabled drug delivery  Bibliography analysis     0.000001\n",
       "3     1 Nano enabled drug delivery               Graphene     0.000007\n",
       "4     1 Nano enabled drug delivery   Specialization score     0.000001\n",
       "...                            ...                    ...          ...\n",
       "3767                   fa(k)-index            fp(k)-index     0.000001\n",
       "3768                   fa(k)-index           fas(k)-index     0.000001\n",
       "3769                  fas(k)-index            fp(k)-index     0.000001\n",
       "3770                       g-index                h-index     0.000361\n",
       "3771                 h-Core scores                h-Index     0.000286\n",
       "\n",
       "[3772 rows x 3 columns]"
      ]
     },
     "execution_count": 28,
     "metadata": {},
     "output_type": "execute_result"
    }
   ],
   "source": [
    "df_betweenness = df_betweenness.reset_index()\n",
    "df_betweenness"
   ]
  },
  {
   "cell_type": "code",
   "execution_count": 97,
   "metadata": {},
   "outputs": [],
   "source": [
    "z = pd.merge(left, right, how='outer', on=['keyword1', 'keyword2'])"
   ]
  },
  {
   "cell_type": "code",
   "execution_count": 100,
   "metadata": {},
   "outputs": [
    {
     "data": {
      "text/html": [
       "<div>\n",
       "<style scoped>\n",
       "    .dataframe tbody tr th:only-of-type {\n",
       "        vertical-align: middle;\n",
       "    }\n",
       "\n",
       "    .dataframe tbody tr th {\n",
       "        vertical-align: top;\n",
       "    }\n",
       "\n",
       "    .dataframe thead th {\n",
       "        text-align: right;\n",
       "    }\n",
       "</style>\n",
       "<table border=\"1\" class=\"dataframe\">\n",
       "  <thead>\n",
       "    <tr style=\"text-align: right;\">\n",
       "      <th></th>\n",
       "      <th>keyword1</th>\n",
       "      <th>keyword2</th>\n",
       "      <th>katz_beta001_t1</th>\n",
       "      <th>predict</th>\n",
       "      <th>actual</th>\n",
       "      <th>tp</th>\n",
       "      <th>fp</th>\n",
       "      <th>fn</th>\n",
       "      <th>tn</th>\n",
       "      <th>sensitivity</th>\n",
       "      <th>specificity</th>\n",
       "      <th>YoundenIndex</th>\n",
       "      <th>betweenness</th>\n",
       "    </tr>\n",
       "  </thead>\n",
       "  <tbody>\n",
       "    <tr>\n",
       "      <th>7855073</th>\n",
       "      <td>All-in-one indicator</td>\n",
       "      <td>Altmetric score</td>\n",
       "      <td>NaN</td>\n",
       "      <td>NaN</td>\n",
       "      <td>NaN</td>\n",
       "      <td>NaN</td>\n",
       "      <td>NaN</td>\n",
       "      <td>NaN</td>\n",
       "      <td>NaN</td>\n",
       "      <td>NaN</td>\n",
       "      <td>NaN</td>\n",
       "      <td>NaN</td>\n",
       "      <td>0.000001</td>\n",
       "    </tr>\n",
       "    <tr>\n",
       "      <th>7855074</th>\n",
       "      <td>All-in-one indicator</td>\n",
       "      <td>Altmetrics</td>\n",
       "      <td>NaN</td>\n",
       "      <td>NaN</td>\n",
       "      <td>NaN</td>\n",
       "      <td>NaN</td>\n",
       "      <td>NaN</td>\n",
       "      <td>NaN</td>\n",
       "      <td>NaN</td>\n",
       "      <td>NaN</td>\n",
       "      <td>NaN</td>\n",
       "      <td>NaN</td>\n",
       "      <td>0.001344</td>\n",
       "    </tr>\n",
       "    <tr>\n",
       "      <th>7855075</th>\n",
       "      <td>1 Nano enabled drug delivery</td>\n",
       "      <td>Bibliography analysis</td>\n",
       "      <td>NaN</td>\n",
       "      <td>NaN</td>\n",
       "      <td>NaN</td>\n",
       "      <td>NaN</td>\n",
       "      <td>NaN</td>\n",
       "      <td>NaN</td>\n",
       "      <td>NaN</td>\n",
       "      <td>NaN</td>\n",
       "      <td>NaN</td>\n",
       "      <td>NaN</td>\n",
       "      <td>0.000001</td>\n",
       "    </tr>\n",
       "    <tr>\n",
       "      <th>7855076</th>\n",
       "      <td>1 Nano enabled drug delivery</td>\n",
       "      <td>Graphene</td>\n",
       "      <td>NaN</td>\n",
       "      <td>NaN</td>\n",
       "      <td>NaN</td>\n",
       "      <td>NaN</td>\n",
       "      <td>NaN</td>\n",
       "      <td>NaN</td>\n",
       "      <td>NaN</td>\n",
       "      <td>NaN</td>\n",
       "      <td>NaN</td>\n",
       "      <td>NaN</td>\n",
       "      <td>0.000007</td>\n",
       "    </tr>\n",
       "    <tr>\n",
       "      <th>7855077</th>\n",
       "      <td>1 Nano enabled drug delivery</td>\n",
       "      <td>Specialization score</td>\n",
       "      <td>NaN</td>\n",
       "      <td>NaN</td>\n",
       "      <td>NaN</td>\n",
       "      <td>NaN</td>\n",
       "      <td>NaN</td>\n",
       "      <td>NaN</td>\n",
       "      <td>NaN</td>\n",
       "      <td>NaN</td>\n",
       "      <td>NaN</td>\n",
       "      <td>NaN</td>\n",
       "      <td>0.000001</td>\n",
       "    </tr>\n",
       "    <tr>\n",
       "      <th>...</th>\n",
       "      <td>...</td>\n",
       "      <td>...</td>\n",
       "      <td>...</td>\n",
       "      <td>...</td>\n",
       "      <td>...</td>\n",
       "      <td>...</td>\n",
       "      <td>...</td>\n",
       "      <td>...</td>\n",
       "      <td>...</td>\n",
       "      <td>...</td>\n",
       "      <td>...</td>\n",
       "      <td>...</td>\n",
       "      <td>...</td>\n",
       "    </tr>\n",
       "    <tr>\n",
       "      <th>7858840</th>\n",
       "      <td>fa(k)-index</td>\n",
       "      <td>fp(k)-index</td>\n",
       "      <td>NaN</td>\n",
       "      <td>NaN</td>\n",
       "      <td>NaN</td>\n",
       "      <td>NaN</td>\n",
       "      <td>NaN</td>\n",
       "      <td>NaN</td>\n",
       "      <td>NaN</td>\n",
       "      <td>NaN</td>\n",
       "      <td>NaN</td>\n",
       "      <td>NaN</td>\n",
       "      <td>0.000001</td>\n",
       "    </tr>\n",
       "    <tr>\n",
       "      <th>7858841</th>\n",
       "      <td>fa(k)-index</td>\n",
       "      <td>fas(k)-index</td>\n",
       "      <td>NaN</td>\n",
       "      <td>NaN</td>\n",
       "      <td>NaN</td>\n",
       "      <td>NaN</td>\n",
       "      <td>NaN</td>\n",
       "      <td>NaN</td>\n",
       "      <td>NaN</td>\n",
       "      <td>NaN</td>\n",
       "      <td>NaN</td>\n",
       "      <td>NaN</td>\n",
       "      <td>0.000001</td>\n",
       "    </tr>\n",
       "    <tr>\n",
       "      <th>7858842</th>\n",
       "      <td>fas(k)-index</td>\n",
       "      <td>fp(k)-index</td>\n",
       "      <td>NaN</td>\n",
       "      <td>NaN</td>\n",
       "      <td>NaN</td>\n",
       "      <td>NaN</td>\n",
       "      <td>NaN</td>\n",
       "      <td>NaN</td>\n",
       "      <td>NaN</td>\n",
       "      <td>NaN</td>\n",
       "      <td>NaN</td>\n",
       "      <td>NaN</td>\n",
       "      <td>0.000001</td>\n",
       "    </tr>\n",
       "    <tr>\n",
       "      <th>7858843</th>\n",
       "      <td>g-index</td>\n",
       "      <td>h-index</td>\n",
       "      <td>NaN</td>\n",
       "      <td>NaN</td>\n",
       "      <td>NaN</td>\n",
       "      <td>NaN</td>\n",
       "      <td>NaN</td>\n",
       "      <td>NaN</td>\n",
       "      <td>NaN</td>\n",
       "      <td>NaN</td>\n",
       "      <td>NaN</td>\n",
       "      <td>NaN</td>\n",
       "      <td>0.000361</td>\n",
       "    </tr>\n",
       "    <tr>\n",
       "      <th>7858844</th>\n",
       "      <td>h-Core scores</td>\n",
       "      <td>h-Index</td>\n",
       "      <td>NaN</td>\n",
       "      <td>NaN</td>\n",
       "      <td>NaN</td>\n",
       "      <td>NaN</td>\n",
       "      <td>NaN</td>\n",
       "      <td>NaN</td>\n",
       "      <td>NaN</td>\n",
       "      <td>NaN</td>\n",
       "      <td>NaN</td>\n",
       "      <td>NaN</td>\n",
       "      <td>0.000286</td>\n",
       "    </tr>\n",
       "  </tbody>\n",
       "</table>\n",
       "<p>3772 rows × 13 columns</p>\n",
       "</div>"
      ],
      "text/plain": [
       "                             keyword1               keyword2  katz_beta001_t1  \\\n",
       "7855073          All-in-one indicator        Altmetric score              NaN   \n",
       "7855074          All-in-one indicator             Altmetrics              NaN   \n",
       "7855075  1 Nano enabled drug delivery  Bibliography analysis              NaN   \n",
       "7855076  1 Nano enabled drug delivery               Graphene              NaN   \n",
       "7855077  1 Nano enabled drug delivery   Specialization score              NaN   \n",
       "...                               ...                    ...              ...   \n",
       "7858840                   fa(k)-index            fp(k)-index              NaN   \n",
       "7858841                   fa(k)-index           fas(k)-index              NaN   \n",
       "7858842                  fas(k)-index            fp(k)-index              NaN   \n",
       "7858843                       g-index                h-index              NaN   \n",
       "7858844                 h-Core scores                h-Index              NaN   \n",
       "\n",
       "         predict  actual  tp  fp  fn  tn  sensitivity  specificity  \\\n",
       "7855073      NaN     NaN NaN NaN NaN NaN          NaN          NaN   \n",
       "7855074      NaN     NaN NaN NaN NaN NaN          NaN          NaN   \n",
       "7855075      NaN     NaN NaN NaN NaN NaN          NaN          NaN   \n",
       "7855076      NaN     NaN NaN NaN NaN NaN          NaN          NaN   \n",
       "7855077      NaN     NaN NaN NaN NaN NaN          NaN          NaN   \n",
       "...          ...     ...  ..  ..  ..  ..          ...          ...   \n",
       "7858840      NaN     NaN NaN NaN NaN NaN          NaN          NaN   \n",
       "7858841      NaN     NaN NaN NaN NaN NaN          NaN          NaN   \n",
       "7858842      NaN     NaN NaN NaN NaN NaN          NaN          NaN   \n",
       "7858843      NaN     NaN NaN NaN NaN NaN          NaN          NaN   \n",
       "7858844      NaN     NaN NaN NaN NaN NaN          NaN          NaN   \n",
       "\n",
       "         YoundenIndex  betweenness  \n",
       "7855073           NaN     0.000001  \n",
       "7855074           NaN     0.001344  \n",
       "7855075           NaN     0.000001  \n",
       "7855076           NaN     0.000007  \n",
       "7855077           NaN     0.000001  \n",
       "...               ...          ...  \n",
       "7858840           NaN     0.000001  \n",
       "7858841           NaN     0.000001  \n",
       "7858842           NaN     0.000001  \n",
       "7858843           NaN     0.000361  \n",
       "7858844           NaN     0.000286  \n",
       "\n",
       "[3772 rows x 13 columns]"
      ]
     },
     "execution_count": 100,
     "metadata": {},
     "output_type": "execute_result"
    }
   ],
   "source": [
    "z[z['betweenness'].astype(str)!='nan']"
   ]
  },
  {
   "cell_type": "code",
   "execution_count": 96,
   "metadata": {},
   "outputs": [],
   "source": [
    "left = all_results['katz_beta001_t1'].copy()\n",
    "right = df_betweenness.copy()"
   ]
  },
  {
   "cell_type": "code",
   "execution_count": null,
   "metadata": {},
   "outputs": [],
   "source": []
  },
  {
   "cell_type": "code",
   "execution_count": null,
   "metadata": {},
   "outputs": [],
   "source": []
  },
  {
   "cell_type": "code",
   "execution_count": 106,
   "metadata": {},
   "outputs": [],
   "source": [
    "for k in  all_results.keys():\n",
    "    all_results[k].to_pickle(\"output_scoresheet\\\\scoresheet_{}.pkl\".format(k))"
   ]
  },
  {
   "cell_type": "markdown",
   "metadata": {},
   "source": [
    "                link            no-link\n",
    "                +--------------+---------------+\n",
    "     predict    | tp           | fp            |\n",
    "     value      | ret & rel    | ret & ~rel    |\n",
    "                +--------------+---------------+\n",
    "     no-predict | fn           | tn            |\n",
    "     NA         | ~ret & rel   | ~ret & ~rel   |\n",
    "                +--------------+---------------+\n",
    "\n",
    "        Arguments\n",
    "        ---------\n",
    "        retrieved : a list or set\n",
    "            iterable of the retrieved items\n",
    "\n",
    "        relevant : a list or set\n",
    "            iterable of the relevant items\n",
    "\n",
    "        universe : a list or set, an int or None\n",
    "            If universe is an iterable, it is interpreted as the set of all\n",
    "            items in the system. If universe is an int, it is interpreted as\n",
    "            the *number* of items in the system. This allows for fewer checks\n",
    "            but is more memory-efficient. If universe is None, it is supposed\n",
    "            to be unknown. This still allows for some measures, including\n",
    "            precision and recall, to be calculated.\n"
   ]
  },
  {
   "cell_type": "code",
   "execution_count": 19,
   "metadata": {},
   "outputs": [
    {
     "data": {
      "text/html": [
       "<div>\n",
       "<style scoped>\n",
       "    .dataframe tbody tr th:only-of-type {\n",
       "        vertical-align: middle;\n",
       "    }\n",
       "\n",
       "    .dataframe tbody tr th {\n",
       "        vertical-align: top;\n",
       "    }\n",
       "\n",
       "    .dataframe thead th {\n",
       "        text-align: right;\n",
       "    }\n",
       "</style>\n",
       "<table border=\"1\" class=\"dataframe\">\n",
       "  <thead>\n",
       "    <tr style=\"text-align: right;\">\n",
       "      <th></th>\n",
       "      <th>keyword1</th>\n",
       "      <th>keyword2</th>\n",
       "      <th>betweenness</th>\n",
       "    </tr>\n",
       "  </thead>\n",
       "  <tbody>\n",
       "    <tr>\n",
       "      <th>0</th>\n",
       "      <td>All-in-one indicator</td>\n",
       "      <td>Altmetric score</td>\n",
       "      <td>0.000001</td>\n",
       "    </tr>\n",
       "    <tr>\n",
       "      <th>1</th>\n",
       "      <td>All-in-one indicator</td>\n",
       "      <td>Altmetrics</td>\n",
       "      <td>0.001344</td>\n",
       "    </tr>\n",
       "    <tr>\n",
       "      <th>2</th>\n",
       "      <td>1 Nano enabled drug delivery</td>\n",
       "      <td>Bibliography analysis</td>\n",
       "      <td>0.000001</td>\n",
       "    </tr>\n",
       "    <tr>\n",
       "      <th>3</th>\n",
       "      <td>1 Nano enabled drug delivery</td>\n",
       "      <td>Graphene</td>\n",
       "      <td>0.000007</td>\n",
       "    </tr>\n",
       "    <tr>\n",
       "      <th>4</th>\n",
       "      <td>1 Nano enabled drug delivery</td>\n",
       "      <td>Specialization score</td>\n",
       "      <td>0.000001</td>\n",
       "    </tr>\n",
       "    <tr>\n",
       "      <th>...</th>\n",
       "      <td>...</td>\n",
       "      <td>...</td>\n",
       "      <td>...</td>\n",
       "    </tr>\n",
       "    <tr>\n",
       "      <th>3767</th>\n",
       "      <td>fa(k)-index</td>\n",
       "      <td>fp(k)-index</td>\n",
       "      <td>0.000001</td>\n",
       "    </tr>\n",
       "    <tr>\n",
       "      <th>3768</th>\n",
       "      <td>fa(k)-index</td>\n",
       "      <td>fas(k)-index</td>\n",
       "      <td>0.000001</td>\n",
       "    </tr>\n",
       "    <tr>\n",
       "      <th>3769</th>\n",
       "      <td>fas(k)-index</td>\n",
       "      <td>fp(k)-index</td>\n",
       "      <td>0.000001</td>\n",
       "    </tr>\n",
       "    <tr>\n",
       "      <th>3770</th>\n",
       "      <td>g-index</td>\n",
       "      <td>h-index</td>\n",
       "      <td>0.000361</td>\n",
       "    </tr>\n",
       "    <tr>\n",
       "      <th>3771</th>\n",
       "      <td>h-Core scores</td>\n",
       "      <td>h-Index</td>\n",
       "      <td>0.000286</td>\n",
       "    </tr>\n",
       "  </tbody>\n",
       "</table>\n",
       "<p>3772 rows × 3 columns</p>\n",
       "</div>"
      ],
      "text/plain": [
       "                          keyword1               keyword2  betweenness\n",
       "0             All-in-one indicator        Altmetric score     0.000001\n",
       "1             All-in-one indicator             Altmetrics     0.001344\n",
       "2     1 Nano enabled drug delivery  Bibliography analysis     0.000001\n",
       "3     1 Nano enabled drug delivery               Graphene     0.000007\n",
       "4     1 Nano enabled drug delivery   Specialization score     0.000001\n",
       "...                            ...                    ...          ...\n",
       "3767                   fa(k)-index            fp(k)-index     0.000001\n",
       "3768                   fa(k)-index           fas(k)-index     0.000001\n",
       "3769                  fas(k)-index            fp(k)-index     0.000001\n",
       "3770                       g-index                h-index     0.000361\n",
       "3771                 h-Core scores                h-Index     0.000286\n",
       "\n",
       "[3772 rows x 3 columns]"
      ]
     },
     "execution_count": 19,
     "metadata": {},
     "output_type": "execute_result"
    }
   ],
   "source": [
    "df_betweenness = df_betweenness.reset_index()\n",
    "df_betweenness"
   ]
  }
 ],
 "metadata": {
  "kernelspec": {
   "display_name": "Python 3",
   "language": "python",
   "name": "python3"
  },
  "language_info": {
   "codemirror_mode": {
    "name": "ipython",
    "version": 3
   },
   "file_extension": ".py",
   "mimetype": "text/x-python",
   "name": "python",
   "nbconvert_exporter": "python",
   "pygments_lexer": "ipython3",
   "version": "3.7.6"
  }
 },
 "nbformat": 4,
 "nbformat_minor": 4
}
