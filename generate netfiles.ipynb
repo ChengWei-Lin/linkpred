{
 "cells": [
  {
   "cell_type": "markdown",
   "metadata": {},
   "source": [
    "## Generate .net file\n",
    "\n",
    "    *network Informetrics1990-2004\n",
    "    *vertices 632\n",
    "    632 \"Shailendra, K\"\n",
    "    *edges\n",
    "    1 402 1"
   ]
  },
  {
   "cell_type": "code",
   "execution_count": 4,
   "metadata": {},
   "outputs": [
    {
     "name": "stdout",
     "output_type": "stream",
     "text": [
      "scientometrics / jasistscientometrics\n",
      "co-author / co-occurrenceco-occurrence\n"
     ]
    }
   ],
   "source": [
    "journal = input('scientometrics / jasist')\n",
    "entity = input('co-author / co-occurrence')"
   ]
  },
  {
   "cell_type": "code",
   "execution_count": 8,
   "metadata": {},
   "outputs": [],
   "source": [
    "import os\n",
    "import pandas as pd\n",
    "\n",
    "path = os.getcwd()\n",
    "output_path = path+\"\\\\data_transformation_output\\\\scientometrics\\\\netfiles\\\\{}\\\\\".format(entity)\n",
    "node_files, edge_files = [], []\n",
    "for f in os.listdir(path+\"\\\\data_transformation_output\\\\{}\\\\{}\\\\\".format(journal, entity)):\n",
    "    if f.endswith('node.csv'):\n",
    "        node_files.append(path+\"\\\\data_transformation_output\\\\{}\\\\{}\\\\\".format(journal, entity)+f)\n",
    "    elif f.endswith('edge.csv'):\n",
    "        edge_files.append(path+\"\\\\data_transformation_output\\\\{}\\\\{}\\\\\".format(journal, entity)+f)\n",
    "\n",
    "df_nodes, df_edges = [], []\n",
    "for f in node_files:\n",
    "    df = pd.read_csv(f)\n",
    "    df_nodes.append(df)\n",
    "    \n",
    "for f in edge_files:\n",
    "    df = pd.read_csv(f)\n",
    "    df_edges.append(df)\n",
    "\n",
    "times = ['2010-15', '2016-16', '2016-17', '2016-18', '2016-19']"
   ]
  },
  {
   "cell_type": "code",
   "execution_count": 9,
   "metadata": {},
   "outputs": [],
   "source": [
    "def generate_netfiles(df_node, df_edge, file_name, t, output_path):\n",
    "    file_name = file_name+\" {}\".format(t)\n",
    "    netfile_path = output_path+\"{}.net\".format(t)\n",
    "    \n",
    "    f = open(netfile_path, 'w', encoding='utf-8')\n",
    "    f.write(\"*{}\\n\".format(file_name))\n",
    "    f.write(\"*vertices {}\\n\".format(len(df_node)))\n",
    "    for i in range(len(df_node)):\n",
    "        ID = int(df_node.iloc[i]['id'])\n",
    "        label = str(df_node.iloc[i]['label'])\n",
    "        f.write('{} \"{}\"\\n'.format(ID, label))\n",
    "    f.write('*edges\\n')\n",
    "    for i in range(len(df_edge)):\n",
    "        source = int(df_edge.iloc[i][0])\n",
    "        target = int(df_edge.iloc[i][1])\n",
    "        weight = int(df_edge.iloc[i][2])\n",
    "        f.write(\"{} {} {}\\n\".format(source, target, weight))\n",
    "    f.close()\n",
    "    print('--'*15, netfile_path, '--'*15)"
   ]
  },
  {
   "cell_type": "code",
   "execution_count": 10,
   "metadata": {
    "scrolled": true
   },
   "outputs": [
    {
     "name": "stdout",
     "output_type": "stream",
     "text": [
      "file name: (e.g. scientometrics, jasist)scientometrics\n",
      "------------------------------ C:\\Users\\Liser\\Desktop\\linchengwei_link_prediction\\data_transformation_output\\scientometrics\\netfiles\\co-occurrence\\2010-15.net ------------------------------\n",
      "------------------------------ C:\\Users\\Liser\\Desktop\\linchengwei_link_prediction\\data_transformation_output\\scientometrics\\netfiles\\co-occurrence\\2016-16.net ------------------------------\n",
      "------------------------------ C:\\Users\\Liser\\Desktop\\linchengwei_link_prediction\\data_transformation_output\\scientometrics\\netfiles\\co-occurrence\\2016-17.net ------------------------------\n",
      "------------------------------ C:\\Users\\Liser\\Desktop\\linchengwei_link_prediction\\data_transformation_output\\scientometrics\\netfiles\\co-occurrence\\2016-18.net ------------------------------\n",
      "------------------------------ C:\\Users\\Liser\\Desktop\\linchengwei_link_prediction\\data_transformation_output\\scientometrics\\netfiles\\co-occurrence\\2016-19.net ------------------------------\n"
     ]
    }
   ],
   "source": [
    "file_name = input(\"file name: (e.g. scientometrics, jasist)\")\n",
    "\n",
    "for i, t in enumerate(times):\n",
    "    t, df_node, df_edge = times[i], df_nodes[i], df_edges[i]\n",
    "    generate_netfiles(df_node, df_edge, file_name, t, output_path)"
   ]
  }
 ],
 "metadata": {
  "kernelspec": {
   "display_name": "Python 3",
   "language": "python",
   "name": "python3"
  },
  "language_info": {
   "codemirror_mode": {
    "name": "ipython",
    "version": 3
   },
   "file_extension": ".py",
   "mimetype": "text/x-python",
   "name": "python",
   "nbconvert_exporter": "python",
   "pygments_lexer": "ipython3",
   "version": "3.7.6"
  }
 },
 "nbformat": 4,
 "nbformat_minor": 4
}
